{
 "cells": [
  {
   "cell_type": "code",
   "execution_count": 1,
   "id": "f437c0fe",
   "metadata": {
    "execution": {
     "iopub.execute_input": "2022-03-13T21:17:36.835336Z",
     "iopub.status.busy": "2022-03-13T21:17:36.833806Z",
     "iopub.status.idle": "2022-03-13T21:17:36.835913Z",
     "shell.execute_reply": "2022-03-13T21:17:36.836305Z",
     "shell.execute_reply.started": "2022-03-13T21:05:58.832900Z"
    },
    "papermill": {
     "duration": 0.051676,
     "end_time": "2022-03-13T21:17:36.836514",
     "exception": false,
     "start_time": "2022-03-13T21:17:36.784838",
     "status": "completed"
    },
    "tags": []
   },
   "outputs": [],
   "source": [
    "# unicode arabic \n",
    "# https://unicode.org/charts/PDF/U0600.pdf\n",
    "# https://unicode.org/charts/PDF/UFE70.pdf\n",
    "\n",
    "# mazajak cbow\n",
    "# http://mazajak.inf.ed.ac.uk:8000/get_cbow_250\n",
    "# http://mazajak.inf.ed.ac.uk:8000/get_sg_250\n",
    "\n",
    "# !python3 -m pip install farasapy\n"
   ]
  },
  {
   "cell_type": "code",
   "execution_count": 2,
   "id": "79968756",
   "metadata": {
    "execution": {
     "iopub.execute_input": "2022-03-13T21:17:36.929084Z",
     "iopub.status.busy": "2022-03-13T21:17:36.928400Z",
     "iopub.status.idle": "2022-03-13T21:17:42.074966Z",
     "shell.execute_reply": "2022-03-13T21:17:42.074449Z",
     "shell.execute_reply.started": "2022-03-13T21:05:58.844193Z"
    },
    "papermill": {
     "duration": 5.197777,
     "end_time": "2022-03-13T21:17:42.075100",
     "exception": false,
     "start_time": "2022-03-13T21:17:36.877323",
     "status": "completed"
    },
    "tags": []
   },
   "outputs": [],
   "source": [
    "import json\n",
    "import os\n",
    "import matplotlib.pyplot as plt\n",
    "import nltk\n",
    "import numpy as np\n",
    "import pandas as pd\n",
    "import pickle\n",
    "import random\n",
    "import re\n",
    "import requests\n",
    "import tensorflow as tf\n",
    "from nltk.corpus import stopwords\n",
    "from nltk.tokenize import RegexpTokenizer\n",
    "from sklearn.feature_extraction.text import CountVectorizer\n",
    "from sklearn.metrics import classification_report\n",
    "from sklearn.model_selection import train_test_split, cross_validate\n",
    "from sklearn.naive_bayes import MultinomialNB\n",
    "from sklearn.pipeline import make_pipeline\n",
    "from typing import Callable, Tuple, Union\n",
    "from pylab import rcParams\n",
    "\n",
    "rcParams[\"figure.figsize\"] = (16,9)\n",
    "\n",
    "try:\n",
    "    STOP_WORDS_BASIC = stopwords.words(\"arabic\")\n",
    "except LookupError:\n",
    "    nltk.download(\"stopwords\")\n",
    "    STOP_WORDS_BASIC = stopwords.words(\"arabic\")\n",
    "\n",
    "# from farasa.segmenter import FarasaSegmenter\n",
    "random.seed(42)\n",
    "np.random.seed(42)\n",
    "\n",
    "DATA_PATH_CSV = \"../input/dialect-dataset/\"\n",
    "# DATA_PATH_PKL = \"../input/dialectdataset/\"\n",
    "DATA_PATH_PKL = \"../input/aim-task/\"\n",
    "DATA_PATH_OUT = \"../working/\"\n",
    "AIM_URI = \"https://recruitment.aimtechnologies.co/ai-tasks\"\n",
    "ID_LIMIT = 1000\n",
    "STOP_WORDS_BASIC = stopwords.words(\"arabic\")\n",
    "FILENAME = \"dialect_dataset\"\n",
    "MAX_LENGTH = 1024  # FIXME should be determined by EDA\n"
   ]
  },
  {
   "cell_type": "markdown",
   "id": "acdf2e2a",
   "metadata": {
    "papermill": {
     "duration": 0.039533,
     "end_time": "2022-03-13T21:17:42.154872",
     "exception": false,
     "start_time": "2022-03-13T21:17:42.115339",
     "status": "completed"
    },
    "tags": []
   },
   "source": [
    "---\n",
    "\n",
    "## functions for fetching data\n"
   ]
  },
  {
   "cell_type": "code",
   "execution_count": 3,
   "id": "0d82176c",
   "metadata": {
    "execution": {
     "iopub.execute_input": "2022-03-13T21:17:42.248109Z",
     "iopub.status.busy": "2022-03-13T21:17:42.247299Z",
     "iopub.status.idle": "2022-03-13T21:17:42.249197Z",
     "shell.execute_reply": "2022-03-13T21:17:42.249828Z",
     "shell.execute_reply.started": "2022-03-13T21:06:02.610426Z"
    },
    "papermill": {
     "duration": 0.055652,
     "end_time": "2022-03-13T21:17:42.249964",
     "exception": false,
     "start_time": "2022-03-13T21:17:42.194312",
     "status": "completed"
    },
    "tags": []
   },
   "outputs": [],
   "source": [
    "def fetch_tweets_by_id(ids: list, object_hook: Callable = None) -> dict:\n",
    "    \"\"\"preforms a POST request to the AIM_URI, and returns the dictionary of\n",
    "        id:tweet on success, raises an Exception on failure. The function\n",
    "        handles the limit for the AIM_URI using `ID_LIMIT` constant\n",
    "\n",
    "    Parameters\n",
    "    ----------\n",
    "    ids: array-like\n",
    "        a list or array holding the IDs to retrieve, each is of type str\n",
    "\n",
    "    Returns\n",
    "    -------\n",
    "    out: dict\n",
    "        a dictionary where the keys are the given IDs and the corresponding\n",
    "        values are the documents\n",
    "\n",
    "    Raises\n",
    "    ------\n",
    "    FIXME add proper raises\n",
    "    \"\"\"\n",
    "    tweets = {}\n",
    "    for i in range(0, len(ids), ID_LIMIT):\n",
    "        data = json.dumps(ids[i : i + ID_LIMIT])\n",
    "        res = requests.post(AIM_URI, data)\n",
    "        if res.ok:\n",
    "            res.encoding = \"utf8\"\n",
    "            i_docs = json.loads(res.text, object_hook=object_hook)\n",
    "            tweets.update(i_docs)\n",
    "        else:\n",
    "            raise Exception(\"FIXME: check status code of response\")\n",
    "    return tweets\n",
    "\n",
    "\n",
    "def check_cached_data() -> bool:\n",
    "    \"\"\"checks if the data has been loaded before and cached\n",
    "\n",
    "    FIXME complete the pydoc\n",
    "    \"\"\"\n",
    "    filename = FILENAME + \".pkl\"\n",
    "    for _, _, filenames in os.walk(DATA_PATH_PKL):\n",
    "        if filename in filenames:\n",
    "            return True\n",
    "    return False\n",
    "\n",
    "\n",
    "def load_local_dataset() -> pd.DataFrame:\n",
    "    \"\"\"loads the local dataset\n",
    "\n",
    "    FIXME complete the pydoc\n",
    "    \"\"\"\n",
    "    file_path = os.path.join(DATA_PATH_CSV, FILENAME + \".csv\")\n",
    "    df = pd.read_csv(file_path, index_col=[\"id\"])\n",
    "    df[\"dialect\"] = df[\"dialect\"].astype(\"category\")\n",
    "    return df\n",
    "\n",
    "\n",
    "def fetch_remote_dataset(ids: list, object_hook: Callable = None) -> pd.DataFrame:\n",
    "    \"\"\"fetches the dataset by POSTing to URI\n",
    "\n",
    "    FIXME complete the pydoc\n",
    "    \"\"\"\n",
    "    tweets = fetch_tweets_by_id(ids, object_hook=object_hook)\n",
    "    return pd.DataFrame(\n",
    "        tweets.values(), index=[int(k) for k in tweets.keys()], columns=[\"tweets\"]\n",
    "    )\n",
    "\n",
    "\n",
    "def load_full_dataset(\n",
    "    force: bool = False, cache: bool = True, object_hook: Callable = None\n",
    ") -> pd.DataFrame:\n",
    "    \"\"\"loads the full dataset\n",
    "\n",
    "    # FIXME complete the pydoc\n",
    "    \"\"\"\n",
    "    if not force and check_cached_data():\n",
    "        cached_file_path = os.path.join(DATA_PATH_PKL, FILENAME + \".pkl\")\n",
    "        return pickle.load(open(cached_file_path, \"rb\"))\n",
    "    else:\n",
    "        local_df = load_local_dataset()\n",
    "        ids = local_df.index.values.astype(str).tolist()\n",
    "        remote_df = fetch_remote_dataset(ids, object_hook=object_hook)\n",
    "        full_df = local_df.join(remote_df, on=local_df.index)\n",
    "        if cache:\n",
    "            cached_file_path = os.path.join(DATA_PATH_OUT, FILENAME + \".pkl\")\n",
    "            pickle.dump(full_df, open(cached_file_path, \"wb\"))\n",
    "        return full_df\n"
   ]
  },
  {
   "cell_type": "markdown",
   "id": "a6bd4199",
   "metadata": {
    "papermill": {
     "duration": 0.038753,
     "end_time": "2022-03-13T21:17:42.327949",
     "exception": false,
     "start_time": "2022-03-13T21:17:42.289196",
     "status": "completed"
    },
    "tags": []
   },
   "source": [
    "## Function for loading saved `sklearn` models\n"
   ]
  },
  {
   "cell_type": "code",
   "execution_count": 4,
   "id": "96057fda",
   "metadata": {
    "execution": {
     "iopub.execute_input": "2022-03-13T21:17:42.411475Z",
     "iopub.status.busy": "2022-03-13T21:17:42.410699Z",
     "iopub.status.idle": "2022-03-13T21:17:42.412475Z",
     "shell.execute_reply": "2022-03-13T21:17:42.412914Z",
     "shell.execute_reply.started": "2022-03-13T21:06:02.632350Z"
    },
    "papermill": {
     "duration": 0.04599,
     "end_time": "2022-03-13T21:17:42.413040",
     "exception": false,
     "start_time": "2022-03-13T21:17:42.367050",
     "status": "completed"
    },
    "tags": []
   },
   "outputs": [],
   "source": [
    "def load_classic_model(name: str = \"benchmark\"):\n",
    "    \"\"\"loads a classic ML model saved as `.pkl` pickled file\n",
    "\n",
    "    Parameters:\n",
    "    -----------\n",
    "\n",
    "    Returns:\n",
    "    --------\n",
    "\n",
    "    Raises:\n",
    "    -------\n",
    "\n",
    "    TODO complete the pydoc\n",
    "    \"\"\"\n",
    "    path = os.path.join(DATA_PATH_PKL, f\"models/{name}.pkl\")\n",
    "    if not os.path.isfile(path):\n",
    "        raise FileNotFoundError(f\"Could not find model {name}!\")\n",
    "    return pickle.load(open(path, \"rb\"))\n"
   ]
  },
  {
   "cell_type": "markdown",
   "id": "cf0aa015",
   "metadata": {
    "papermill": {
     "duration": 0.039134,
     "end_time": "2022-03-13T21:17:42.492170",
     "exception": false,
     "start_time": "2022-03-13T21:17:42.453036",
     "status": "completed"
    },
    "tags": []
   },
   "source": [
    "## Function to save validation set to disk\n"
   ]
  },
  {
   "cell_type": "code",
   "execution_count": 5,
   "id": "9db3c42e",
   "metadata": {
    "execution": {
     "iopub.execute_input": "2022-03-13T21:17:42.576703Z",
     "iopub.status.busy": "2022-03-13T21:17:42.575848Z",
     "iopub.status.idle": "2022-03-13T21:17:42.578162Z",
     "shell.execute_reply": "2022-03-13T21:17:42.577773Z",
     "shell.execute_reply.started": "2022-03-13T21:06:02.646268Z"
    },
    "papermill": {
     "duration": 0.047006,
     "end_time": "2022-03-13T21:17:42.578267",
     "exception": false,
     "start_time": "2022-03-13T21:17:42.531261",
     "status": "completed"
    },
    "tags": []
   },
   "outputs": [],
   "source": [
    "def store_validation_set(\n",
    "    df: pd.DataFrame, set_size: float = 0.2\n",
    ") -> Tuple[pd.DataFrame, pd.DataFrame]:\n",
    "    \"\"\"stores a copy of validation set on disk\n",
    "\n",
    "    FIXME complete pydoc\n",
    "    \"\"\"\n",
    "    y = df[\"dialect\"]\n",
    "    train_df, valid_df = train_test_split(\n",
    "        df, test_size=set_size, random_state=42, stratify=y\n",
    "    )\n",
    "    valid_set_path = os.path.join(DATA_PATH_OUT, \"valid.pkl\")\n",
    "    pickle.dump(valid_df, open(valid_set_path, \"wb\"))\n",
    "    return train_df, valid_df\n"
   ]
  },
  {
   "cell_type": "markdown",
   "id": "b9e1b5e5",
   "metadata": {
    "papermill": {
     "duration": 0.039953,
     "end_time": "2022-03-13T21:17:42.657260",
     "exception": false,
     "start_time": "2022-03-13T21:17:42.617307",
     "status": "completed"
    },
    "tags": []
   },
   "source": [
    "---\n",
    "\n",
    "## preprocessing\n"
   ]
  },
  {
   "cell_type": "code",
   "execution_count": 6,
   "id": "781a6269",
   "metadata": {
    "execution": {
     "iopub.execute_input": "2022-03-13T21:17:42.745469Z",
     "iopub.status.busy": "2022-03-13T21:17:42.744669Z",
     "iopub.status.idle": "2022-03-13T21:17:42.747049Z",
     "shell.execute_reply": "2022-03-13T21:17:42.746650Z",
     "shell.execute_reply.started": "2022-03-13T21:06:02.658509Z"
    },
    "papermill": {
     "duration": 0.050283,
     "end_time": "2022-03-13T21:17:42.747153",
     "exception": false,
     "start_time": "2022-03-13T21:17:42.696870",
     "status": "completed"
    },
    "tags": []
   },
   "outputs": [],
   "source": [
    "REGEX_HANDLER = r\"(?u)@\\w+\"\n",
    "REGEX_HYPERLINK = r\"(?u)https?://\\w+\"\n",
    "REGEX_HASHTAG = r\"(?u)#(\\w+)\"\n",
    "# to capture letters that repeat over 3 times\n",
    "REGEX_CHAR_3_PLUS = r\"(?u)(?=(\\w))\\1{3,}\"\n",
    "\n",
    "# to capture non-arabic, & non-farsi unicodes\n",
    "REGEX_NOT_ARA_IRA = r\"(?u)\\b[^\\u0600-\\u06ff\\ufe70-\\ufefc_]+\\b\"\n",
    "\n",
    "# to capture most common arabic glyphs\n",
    "REGEX_RANGE_ARA = r\"\\ufe70-\\ufefc\\u0621-\\u063a\\u0640-\\u0652\\u060c\\u061f\"\n",
    "REGEX_NOT_ARA = r\"(?u)\\b[^\"+ REGEX_RANGE_ARA + \"]+\\b\"\n",
    "\n",
    "# converting farsi glyphs into arabic\n",
    "REGEX_IRA2ARA = {\n",
    "    r\"\\u06fd\": \"\\u0621\",\n",
    "    r\"[\\u0676\\u0677]\": \"\\u0624\",\n",
    "    r\"[\\u0678\\u06d3]\": \"\\u0626\",\n",
    "    r\"[\\u0622\\u0623\\u0625\\u0671-\\u0675]\": \"\\u0627\",\n",
    "    r\"[\\u067b\\u067e\\u0680]\": \"\\u0628\",\n",
    "    r\"[\\u067a\\u067c\\u067d\\u067f]\": \"\\u062a\",\n",
    "    r\"[\\u0686\\u0687]\": \"\\u062c\",\n",
    "    r\"[\\u0688-\\u068b\\u068d]\": \"\\u062f\",\n",
    "    r\"[\\u068c\\u068e-\\u0690]\": \"\\u0630\",\n",
    "    r\"[\\u066b\\u0691-\\u0695]\": \"\\u0631\",\n",
    "    r\"[\\u0696-\\u0699]\": \"\\u0632\",\n",
    "    r\"[\\u069a\\u069b]\": \"\\u0633\",\n",
    "    r\"\\u069c\": \"\\u0634\",\n",
    "    r\"\\u060f\": \"\\u0639\",\n",
    "    r\"\\u06d4\": \"\\u0640\",\n",
    "    r\"[\\u06a4\\u06a5]\": \"\\u0641\",\n",
    "    r\"\\u06a8\\u06a6\": \"\\u0642\",\n",
    "    r\"[\\u063b\\u063c\\u06a9-\\u06b4]\": \"\\u0643\",\n",
    "    r\"[\\u06b5-\\u06b8]\": \"\\u0644\",\n",
    "    r\"\\u06fe\": \"\\u0645\",\n",
    "    r\"[\\u06b9-\\u06bd]\": \"\\u0646\",\n",
    "    r\"[\\u0629\\u06be\\u06c0-\\u06c3\\u06ff]\": \"\\u0647\",\n",
    "    r\"[\\u06c4-\\u06cb\\u06cf]\": \"\\u0648\",\n",
    "    r\"[\\u0620\\u063d-\\u063f\\u0649\\u06cc-\\u06ce\\u06d0-\\u06d2\\u06e6\\u06e7]\": \"\\u064a\",\n",
    "    r\"[\\u06d9\\ufef5\\ufef7\\ufef9]\": \"\\ufefb\",\n",
    "}\n"
   ]
  },
  {
   "cell_type": "code",
   "execution_count": 7,
   "id": "03e38c4e",
   "metadata": {
    "execution": {
     "iopub.execute_input": "2022-03-13T21:17:42.846008Z",
     "iopub.status.busy": "2022-03-13T21:17:42.845278Z",
     "iopub.status.idle": "2022-03-13T21:17:43.672516Z",
     "shell.execute_reply": "2022-03-13T21:17:43.671508Z",
     "shell.execute_reply.started": "2022-03-13T21:06:02.673377Z"
    },
    "papermill": {
     "duration": 0.886619,
     "end_time": "2022-03-13T21:17:43.672729",
     "exception": false,
     "start_time": "2022-03-13T21:17:42.786110",
     "status": "completed"
    },
    "tags": []
   },
   "outputs": [],
   "source": [
    "def regex_substitute(\n",
    "    series: Union[list, np.ndarray, pd.Series], regex_holder_dict: dict\n",
    ") -> pd.Series:\n",
    "    \"\"\"given an array-like, & a dictionary of RegExp:`placeholder`, the series\n",
    "    is processed to replace each RegExp with the corresponding `placeholder`\n",
    "\n",
    "    Parameters:\n",
    "    -----------\n",
    "\n",
    "    Returns:\n",
    "    --------\n",
    "\n",
    "    Raises:\n",
    "    -------\n",
    "\n",
    "    TODO complete the pydoc\n",
    "    \"\"\"\n",
    "    if not isinstance(series, pd.Series):\n",
    "        try:\n",
    "            series = pd.Series(series, dtype=str)\n",
    "        except:\n",
    "            raise ValueError(\"Invalid series: not array-like\")\n",
    "    for regex, holder in regex_holder_dict.items():\n",
    "        series = series.apply(lambda s: re.sub(regex, holder, s))\n",
    "    return series\n",
    "\n",
    "\n",
    "def preprocess(data: Union[list, np.ndarray, pd.Series, pd.DataFrame]) -> pd.Series:\n",
    "    \"\"\"The actual preprocessing subroutine\n",
    "\n",
    "    TODO complete pydoc\n",
    "\n",
    "    \"\"\"\n",
    "    if isinstance(data, pd.DataFrame):\n",
    "        if \"tweets\" not in data.columns:\n",
    "            raise Exception(\"FIXME write a proper exception\")\n",
    "        # extract data as series\n",
    "        data = data[\"tweets\"]\n",
    "    elif isinstance(data, list) or isinstance(data, np.ndarray):\n",
    "        data = pd.Series(data, dtype=str)\n",
    "    elif not isinstance(data, pd.Series):\n",
    "        raise Exception(\"FIXME write a proper exception\")\n",
    "\n",
    "    # removing twitter specific features\n",
    "    regex_twitter = {\n",
    "        REGEX_HANDLER: r\" \",\n",
    "        REGEX_HYPERLINK: r\" \",\n",
    "        r\"\\d+\": r\" \",\n",
    "        REGEX_HASHTAG: r\"\\1\",\n",
    "        r\"_\": r\" \",\n",
    "    }\n",
    "    data = regex_substitute(data, regex_twitter)\n",
    "\n",
    "    #     normalising the characters\n",
    "    data = regex_substitute(data, REGEX_IRA2ARA)\n",
    "\n",
    "    # removing any non-useful tokens\n",
    "    extra_tokens = {\n",
    "        REGEX_NOT_ARA: r\" \",\n",
    "        r\"(?u)[\\d\\s_]+\": r\" \",\n",
    "        REGEX_CHAR_3_PLUS: r\"\\1\\1\",\n",
    "    }\n",
    "    ara_ira = regex_substitute(data, extra_tokens)\n",
    "    data = ara_ira.str.strip()\n",
    "\n",
    "    # FIXME could use lemmatisation?\n",
    "\n",
    "    return data\n",
    "\n",
    "\n",
    "def init_preprocess(\n",
    "    test_size: float = 0.1,\n",
    ") -> Tuple[pd.Series, pd.Series, pd.Series, pd.Series]:\n",
    "    \"\"\"initialisation point for the training of the model\n",
    "\n",
    "    TODO complete the pydoc\n",
    "    \"\"\"\n",
    "    full_df = load_full_dataset()\n",
    "    # keep a validation set aside\n",
    "    df, _ = store_validation_set(full_df)\n",
    "\n",
    "    df[\"tweets\"] = preprocess(df[\"tweets\"])\n",
    "\n",
    "    # split data\n",
    "    X = df[\"tweets\"]\n",
    "    y = df[\"dialect\"]\n",
    "    X_train, X_test, y_train, y_test = train_test_split(\n",
    "        X, y, test_size=test_size, random_state=42, stratify=y\n",
    "    )\n",
    "    del df\n",
    "\n",
    "    # TODO do more preprocess\n",
    "\n",
    "    return X_train, X_test, y_train, y_test\n",
    "\n",
    "\n",
    "def build_tokeniser(\n",
    "    corpus: Union[list, np.ndarray, pd.Series]\n",
    ") -> tf.keras.preprocessing.text.Tokenizer:\n",
    "    \"\"\"instantiate and fits a `tensorflow.keras.preprocessing.Tokenizer` object\n",
    "    on the given corpus, and returns the tokeniser\n",
    "\n",
    "    Parameters:\n",
    "    -----------\n",
    "\n",
    "    TODO complete pydoc\n",
    "    \"\"\"\n",
    "    tokeniser = tf.keras.preprocessing.text.Tokenizer()\n",
    "    _ = tokeniser.fit_on_texts(corpus)\n",
    "    return tokeniser\n",
    "\n",
    "\n",
    "def tokenise_pad_texts(\n",
    "    corpus: Union[list, np.ndarray, pd.Series],\n",
    "    tokeniser: tf.keras.preprocessing.text.Tokenizer = None,\n",
    "    maxlen: int = MAX_LENGTH,\n",
    "    padding: str = \"post\",\n",
    "):\n",
    "    \"\"\"tokenises the documents in `corpus`, then pads the documents to the\n",
    "    `maxlen` length\n",
    "\n",
    "    Parameters:\n",
    "    -----------\n",
    "\n",
    "    TODO complete pydoc\n",
    "    \"\"\"\n",
    "    if not tokeniser:\n",
    "        tokeniser = build_tokeniser(corpus)\n",
    "    elif not isinstance(tokeniser, tf.keras.preprocessing.text.Tokenizer):\n",
    "        raise ValueError(\n",
    "            \"The tokeniser must be of type tensorflow.keras.preprocessing.Tokenizer\"\n",
    "        )\n",
    "    tokens = tokeniser.texts_to_sequences(corpus)\n",
    "    padded_tokens = tf.keras.preprocessing.sequence.pad_sequences(\n",
    "        tokens, maxlen=maxlen, padding=padding\n",
    "    )\n",
    "    return padded_tokens\n",
    "\n",
    "\n",
    "def onehot_encode_labels(labels: Union[list, np.ndarray, pd.Series]) -> np.ndarray:\n",
    "    \"\"\"performs one hot encoding on labels\n",
    "\n",
    "    Parameters:\n",
    "    -----------\n",
    "\n",
    "    TODO complete pydoc\n",
    "    \"\"\"\n",
    "    labels = pd.Series(labels, dtype=\"category\")\n",
    "    return tf.keras.utils.to_categorical(labels.cat.codes)\n"
   ]
  },
  {
   "cell_type": "markdown",
   "id": "9f89afaa",
   "metadata": {
    "papermill": {
     "duration": 0.038877,
     "end_time": "2022-03-13T21:17:43.752320",
     "exception": false,
     "start_time": "2022-03-13T21:17:43.713443",
     "status": "completed"
    },
    "tags": []
   },
   "source": [
    "--- \n",
    "\n",
    "## Fetching the data\n"
   ]
  },
  {
   "cell_type": "code",
   "execution_count": 8,
   "id": "5a64810a",
   "metadata": {
    "execution": {
     "iopub.execute_input": "2022-03-13T21:17:43.836246Z",
     "iopub.status.busy": "2022-03-13T21:17:43.835737Z",
     "iopub.status.idle": "2022-03-13T21:27:08.316339Z",
     "shell.execute_reply": "2022-03-13T21:27:08.315831Z",
     "shell.execute_reply.started": "2022-03-13T21:06:02.946300Z"
    },
    "papermill": {
     "duration": 564.524477,
     "end_time": "2022-03-13T21:27:08.316485",
     "exception": false,
     "start_time": "2022-03-13T21:17:43.792008",
     "status": "completed"
    },
    "tags": []
   },
   "outputs": [],
   "source": [
    "X_train, X_test, y_train, y_test = init_preprocess()\n",
    "\n",
    "tweets = pd.concat([X_train, X_test])\n",
    "dialect = pd.concat([y_train, y_test])\n",
    "df = pd.concat([tweets, dialect], axis=1)\n",
    "df.columns = [\"tweets\", \"dialect\"]\n"
   ]
  },
  {
   "cell_type": "code",
   "execution_count": 9,
   "id": "13612cae",
   "metadata": {
    "execution": {
     "iopub.execute_input": "2022-03-13T21:27:08.399094Z",
     "iopub.status.busy": "2022-03-13T21:27:08.398326Z",
     "iopub.status.idle": "2022-03-13T21:27:08.400780Z",
     "shell.execute_reply": "2022-03-13T21:27:08.400304Z",
     "shell.execute_reply.started": "2022-03-13T21:08:27.469929Z"
    },
    "papermill": {
     "duration": 0.044564,
     "end_time": "2022-03-13T21:27:08.400883",
     "exception": false,
     "start_time": "2022-03-13T21:27:08.356319",
     "status": "completed"
    },
    "tags": []
   },
   "outputs": [],
   "source": [
    "# segmenter = FarasaSegmenter()\n",
    "# v_segment = np.vectorize(segmenter.segment)\n",
    "# step = 1024\n",
    "# tweets = df['tweets'].values\n",
    "# lem_text = df['tweets'].apply(segmenter.segment)\n",
    "# lem_text.sample(1)\n",
    "# for idx in np.arange(0, df.shape[0], step):\n",
    "#     tweets[idx:idx+step] = v_segment(tweets[idx:idx+step])\n",
    "#     print(idx)\n"
   ]
  },
  {
   "cell_type": "code",
   "execution_count": 10,
   "id": "955a380d",
   "metadata": {
    "execution": {
     "iopub.execute_input": "2022-03-13T21:27:08.482649Z",
     "iopub.status.busy": "2022-03-13T21:27:08.481932Z",
     "iopub.status.idle": "2022-03-13T21:27:08.483898Z",
     "shell.execute_reply": "2022-03-13T21:27:08.484301Z",
     "shell.execute_reply.started": "2022-03-13T21:08:27.479714Z"
    },
    "papermill": {
     "duration": 0.044411,
     "end_time": "2022-03-13T21:27:08.484413",
     "exception": false,
     "start_time": "2022-03-13T21:27:08.440002",
     "status": "completed"
    },
    "tags": []
   },
   "outputs": [],
   "source": [
    "# df['dialect'].value_counts().plot.barh()\n",
    "# plt.plot()\n"
   ]
  },
  {
   "cell_type": "code",
   "execution_count": 11,
   "id": "bc80949f",
   "metadata": {
    "execution": {
     "iopub.execute_input": "2022-03-13T21:27:08.566320Z",
     "iopub.status.busy": "2022-03-13T21:27:08.565616Z",
     "iopub.status.idle": "2022-03-13T21:27:08.568193Z",
     "shell.execute_reply": "2022-03-13T21:27:08.567695Z",
     "shell.execute_reply.started": "2022-03-13T21:08:27.494797Z"
    },
    "papermill": {
     "duration": 0.044689,
     "end_time": "2022-03-13T21:27:08.568290",
     "exception": false,
     "start_time": "2022-03-13T21:27:08.523601",
     "status": "completed"
    },
    "tags": []
   },
   "outputs": [],
   "source": [
    "# df_cpy = df.copy()\n",
    "# regex_twitter = {\n",
    "#     REGEX_HANDLER: r\"<HNDL/>\",\n",
    "#     REGEX_HYPERLINK: r\"<URL/>\",\n",
    "#     r\"\\d+\": r\"<NUM/>\",\n",
    "# }\n"
   ]
  },
  {
   "cell_type": "code",
   "execution_count": 12,
   "id": "11e6ac55",
   "metadata": {
    "execution": {
     "iopub.execute_input": "2022-03-13T21:27:08.649883Z",
     "iopub.status.busy": "2022-03-13T21:27:08.649231Z",
     "iopub.status.idle": "2022-03-13T21:27:08.652470Z",
     "shell.execute_reply": "2022-03-13T21:27:08.652076Z",
     "shell.execute_reply.started": "2022-03-13T21:08:27.505907Z"
    },
    "papermill": {
     "duration": 0.045294,
     "end_time": "2022-03-13T21:27:08.652597",
     "exception": false,
     "start_time": "2022-03-13T21:27:08.607303",
     "status": "completed"
    },
    "tags": []
   },
   "outputs": [],
   "source": [
    "# df_cpy[\"tweets\"] = regex_substitute(df_cpy[\"tweets\"], regex_twitter)\n"
   ]
  },
  {
   "cell_type": "code",
   "execution_count": 13,
   "id": "d8a25f80",
   "metadata": {
    "execution": {
     "iopub.execute_input": "2022-03-13T21:27:08.733806Z",
     "iopub.status.busy": "2022-03-13T21:27:08.733104Z",
     "iopub.status.idle": "2022-03-13T21:27:08.735518Z",
     "shell.execute_reply": "2022-03-13T21:27:08.735095Z",
     "shell.execute_reply.started": "2022-03-13T21:08:27.540486Z"
    },
    "papermill": {
     "duration": 0.044081,
     "end_time": "2022-03-13T21:27:08.735644",
     "exception": false,
     "start_time": "2022-03-13T21:27:08.691563",
     "status": "completed"
    },
    "tags": []
   },
   "outputs": [],
   "source": [
    "# df_cpy[\"len\"] = df[\"tweets\"].apply(len)\n",
    "# df_cpy[\"word_count\"] = (\n",
    "#     df[\"tweets\"].apply(lambda s: re.findall(r\"(?u)\\b\\w\\w+\\b\", s)).apply(len)\n",
    "# )\n"
   ]
  },
  {
   "cell_type": "code",
   "execution_count": 14,
   "id": "204ed827",
   "metadata": {
    "execution": {
     "iopub.execute_input": "2022-03-13T21:27:08.818432Z",
     "iopub.status.busy": "2022-03-13T21:27:08.817629Z",
     "iopub.status.idle": "2022-03-13T21:27:08.819759Z",
     "shell.execute_reply": "2022-03-13T21:27:08.820200Z",
     "shell.execute_reply.started": "2022-03-13T21:08:27.548975Z"
    },
    "papermill": {
     "duration": 0.044524,
     "end_time": "2022-03-13T21:27:08.820315",
     "exception": false,
     "start_time": "2022-03-13T21:27:08.775791",
     "status": "completed"
    },
    "tags": []
   },
   "outputs": [],
   "source": [
    "# df_cpy[[\"len\", \"dialect\"]].boxplot(by=\"dialect\", grid=False)\n",
    "# plt.show()\n"
   ]
  },
  {
   "cell_type": "code",
   "execution_count": 15,
   "id": "bebeb676",
   "metadata": {
    "execution": {
     "iopub.execute_input": "2022-03-13T21:27:08.902900Z",
     "iopub.status.busy": "2022-03-13T21:27:08.902144Z",
     "iopub.status.idle": "2022-03-13T21:27:08.904073Z",
     "shell.execute_reply": "2022-03-13T21:27:08.904502Z",
     "shell.execute_reply.started": "2022-03-13T21:08:27.560754Z"
    },
    "papermill": {
     "duration": 0.044835,
     "end_time": "2022-03-13T21:27:08.904716",
     "exception": false,
     "start_time": "2022-03-13T21:27:08.859881",
     "status": "completed"
    },
    "tags": []
   },
   "outputs": [],
   "source": [
    "# df_cpy[[\"word_count\", \"dialect\"]].boxplot(by=\"dialect\", grid=False)\n",
    "# plt.show()\n"
   ]
  },
  {
   "cell_type": "code",
   "execution_count": 16,
   "id": "5f19e527",
   "metadata": {
    "execution": {
     "iopub.execute_input": "2022-03-13T21:27:08.988856Z",
     "iopub.status.busy": "2022-03-13T21:27:08.988058Z",
     "iopub.status.idle": "2022-03-13T21:27:08.990079Z",
     "shell.execute_reply": "2022-03-13T21:27:08.990525Z",
     "shell.execute_reply.started": "2022-03-13T21:08:27.571797Z"
    },
    "papermill": {
     "duration": 0.045706,
     "end_time": "2022-03-13T21:27:08.990670",
     "exception": false,
     "start_time": "2022-03-13T21:27:08.944964",
     "status": "completed"
    },
    "tags": []
   },
   "outputs": [],
   "source": [
    "# # NOTE: the notebook might allocate too much memory\n",
    "# del df_cpy\n"
   ]
  },
  {
   "cell_type": "markdown",
   "id": "a579e192",
   "metadata": {
    "papermill": {
     "duration": 0.040008,
     "end_time": "2022-03-13T21:27:09.071113",
     "exception": false,
     "start_time": "2022-03-13T21:27:09.031105",
     "status": "completed"
    },
    "tags": []
   },
   "source": [
    "--- \n",
    "\n",
    "## Model training\n"
   ]
  },
  {
   "cell_type": "code",
   "execution_count": 17,
   "id": "6b5fec83",
   "metadata": {
    "execution": {
     "iopub.execute_input": "2022-03-13T21:27:09.180703Z",
     "iopub.status.busy": "2022-03-13T21:27:09.179797Z",
     "iopub.status.idle": "2022-03-13T21:27:09.181738Z",
     "shell.execute_reply": "2022-03-13T21:27:09.182121Z",
     "shell.execute_reply.started": "2022-03-13T21:08:27.582862Z"
    },
    "papermill": {
     "duration": 0.070905,
     "end_time": "2022-03-13T21:27:09.182258",
     "exception": false,
     "start_time": "2022-03-13T21:27:09.111353",
     "status": "completed"
    },
    "tags": []
   },
   "outputs": [],
   "source": [
    "from itertools import chain\n",
    "\n",
    "\n",
    "def tokeniser(string: str) -> list:\n",
    "    \"\"\"https://stackoverflow.com/questions/952914/how-to-make-a-flat-list-out-of-a-list-of-lists\n",
    "    https://stackoverflow.com/questions/5466451/how-can-i-print-literal-curly-brace-characters-in-a-string-and-also-use-format\n",
    "    \n",
    "    Parameters:\n",
    "    -----------\n",
    "\n",
    "    Returns:\n",
    "    --------\n",
    "\n",
    "    TODO complete pydoc\n",
    "    \"\"\"\n",
    "    regex_c37 = r\"(?u)(?=(\\w{3}))\" + \"\".join(\n",
    "        [f\"(?=(\\\\w{{,{i}}}))\" for i in range(4, 8)]\n",
    "    )\n",
    "    regex_w26 = r\"(?u)(?=(?!\\W)(?=((?:\\W*\\b\\w+\\b){2}))\" + \"\".join(\n",
    "        [f\"(?!\\\\W)(?=((?:\\\\W*\\\\b\\w+\\\\b){{,{i}}}))\" for i in range(3, 7)]\n",
    "    )\n",
    "    token_c37 = RegexpTokenizer(regex_c37).tokenize(string)\n",
    "    token_w26 = RegexpTokenizer(regex_w26).tokenize(string)\n",
    "    tokens = set(chain(*(token_c37 + token_w26)))\n",
    "    return sorted(tokens)\n",
    "\n",
    "\n",
    "def build_naive_bayes_model(*args, **kwargs):\n",
    "    \"\"\"builds and returns an sklearn pipeline\n",
    "\n",
    "\n",
    "    TODO complete the pydoc\n",
    "    \"\"\"\n",
    "    if \"stop_words\" not in kwargs:\n",
    "        kwargs[\"stop_words\"] = STOP_WORDS_BASIC\n",
    "    model = MultinomialNB(alpha=kwargs.get(\"alpha\", 1))\n",
    "    if \"alpha\" in kwargs:\n",
    "        del kwargs[\"alpha\"]\n",
    "    vectoriser = CountVectorizer(**kwargs)\n",
    "\n",
    "    return make_pipeline(vectoriser, model)\n"
   ]
  },
  {
   "cell_type": "code",
   "execution_count": 18,
   "id": "b661ccb9",
   "metadata": {
    "execution": {
     "iopub.execute_input": "2022-03-13T21:27:09.266881Z",
     "iopub.status.busy": "2022-03-13T21:27:09.266031Z",
     "iopub.status.idle": "2022-03-13T21:27:09.268080Z",
     "shell.execute_reply": "2022-03-13T21:27:09.268448Z",
     "shell.execute_reply.started": "2022-03-13T21:08:27.597422Z"
    },
    "papermill": {
     "duration": 0.045366,
     "end_time": "2022-03-13T21:27:09.268603",
     "exception": false,
     "start_time": "2022-03-13T21:27:09.223237",
     "status": "completed"
    },
    "tags": []
   },
   "outputs": [],
   "source": [
    "# # building a benchmark model\n",
    "# bench = build_naive_bayes_model(stop_words=None)\n",
    "\n",
    "# _ = bench.fit(X_train, y_train)\n",
    "# y_pred = bench.predict(X_test)\n",
    "# clf_report = classification_report(y_test, y_pred, labels=y_train.unique())\n",
    "# print(clf_report)\n",
    "\n",
    "# # TODO train better models\n"
   ]
  },
  {
   "cell_type": "code",
   "execution_count": 19,
   "id": "5745a6fb",
   "metadata": {
    "execution": {
     "iopub.execute_input": "2022-03-13T21:27:09.350272Z",
     "iopub.status.busy": "2022-03-13T21:27:09.349604Z",
     "iopub.status.idle": "2022-03-13T21:27:09.352161Z",
     "shell.execute_reply": "2022-03-13T21:27:09.351736Z",
     "shell.execute_reply.started": "2022-03-13T21:08:27.612863Z"
    },
    "papermill": {
     "duration": 0.044308,
     "end_time": "2022-03-13T21:27:09.352260",
     "exception": false,
     "start_time": "2022-03-13T21:27:09.307952",
     "status": "completed"
    },
    "tags": []
   },
   "outputs": [],
   "source": [
    "# # NOTE notebook might allocate too much memory\n",
    "# pickle.dump(bench, open(\"benchmark.pkl\", \"wb\"))\n",
    "# del bench\n"
   ]
  },
  {
   "cell_type": "code",
   "execution_count": 20,
   "id": "e69b2bff",
   "metadata": {
    "execution": {
     "iopub.execute_input": "2022-03-13T21:27:09.433778Z",
     "iopub.status.busy": "2022-03-13T21:27:09.433150Z",
     "iopub.status.idle": "2022-03-13T21:27:09.435441Z",
     "shell.execute_reply": "2022-03-13T21:27:09.435839Z",
     "shell.execute_reply.started": "2022-03-13T21:08:27.621093Z"
    },
    "papermill": {
     "duration": 0.044689,
     "end_time": "2022-03-13T21:27:09.435967",
     "exception": false,
     "start_time": "2022-03-13T21:27:09.391278",
     "status": "completed"
    },
    "tags": []
   },
   "outputs": [],
   "source": [
    "# def analyser(*args):\n",
    "#     \"\"\"to allow BoW to be built using a combination of character &\n",
    "#     word n-grams. using `lambda` expression makes the model non-pickle friendly\n",
    "\n",
    "#     TODO complete pydoc\n",
    "#     \"\"\"\n",
    "#     return args\n",
    "\n",
    "\n",
    "# combined = build_naive_bayes_model(\n",
    "#     alpha=0.1, stop_words=STOP_WORDS_BASIC, analyzer=analyser, tokenizer=tokeniser\n",
    "# )\n"
   ]
  },
  {
   "cell_type": "code",
   "execution_count": 21,
   "id": "97adb227",
   "metadata": {
    "execution": {
     "iopub.execute_input": "2022-03-13T21:27:09.521342Z",
     "iopub.status.busy": "2022-03-13T21:27:09.520624Z",
     "iopub.status.idle": "2022-03-13T21:27:09.523281Z",
     "shell.execute_reply": "2022-03-13T21:27:09.522844Z",
     "shell.execute_reply.started": "2022-03-13T21:08:27.629915Z"
    },
    "papermill": {
     "duration": 0.048354,
     "end_time": "2022-03-13T21:27:09.523421",
     "exception": false,
     "start_time": "2022-03-13T21:27:09.475067",
     "status": "completed"
    },
    "tags": []
   },
   "outputs": [],
   "source": [
    "# # NOTE notebook might allocate too much memory\n",
    "# pickle.dump(combined, open(\"combined.pkl\", \"wb\"))\n",
    "# del combined\n"
   ]
  },
  {
   "cell_type": "code",
   "execution_count": 22,
   "id": "3d705c6d",
   "metadata": {
    "execution": {
     "iopub.execute_input": "2022-03-13T21:27:09.608938Z",
     "iopub.status.busy": "2022-03-13T21:27:09.608290Z",
     "iopub.status.idle": "2022-03-13T21:27:09.611117Z",
     "shell.execute_reply": "2022-03-13T21:27:09.610632Z",
     "shell.execute_reply.started": "2022-03-13T21:08:27.639013Z"
    },
    "papermill": {
     "duration": 0.045997,
     "end_time": "2022-03-13T21:27:09.611213",
     "exception": false,
     "start_time": "2022-03-13T21:27:09.565216",
     "status": "completed"
    },
    "tags": []
   },
   "outputs": [],
   "source": [
    "# model_w26 = build_naive_bayes_model(stop_words=STOP_WORDS_BASIC, ngram_range=(2, 6))\n"
   ]
  },
  {
   "cell_type": "code",
   "execution_count": 23,
   "id": "c6c09ad3",
   "metadata": {
    "execution": {
     "iopub.execute_input": "2022-03-13T21:27:09.695969Z",
     "iopub.status.busy": "2022-03-13T21:27:09.695186Z",
     "iopub.status.idle": "2022-03-13T21:27:09.697496Z",
     "shell.execute_reply": "2022-03-13T21:27:09.697105Z",
     "shell.execute_reply.started": "2022-03-13T21:08:27.650022Z"
    },
    "papermill": {
     "duration": 0.046105,
     "end_time": "2022-03-13T21:27:09.697629",
     "exception": false,
     "start_time": "2022-03-13T21:27:09.651524",
     "status": "completed"
    },
    "tags": []
   },
   "outputs": [],
   "source": [
    "# # NOTE notebook might allocate too much memory\n",
    "# pickle.dump(model_w26, open(\"model_w26.pkl\", \"wb\"))\n",
    "# del model_w26\n"
   ]
  },
  {
   "cell_type": "code",
   "execution_count": 24,
   "id": "e5a4917b",
   "metadata": {
    "execution": {
     "iopub.execute_input": "2022-03-13T21:27:09.791307Z",
     "iopub.status.busy": "2022-03-13T21:27:09.790335Z",
     "iopub.status.idle": "2022-03-13T21:27:09.793976Z",
     "shell.execute_reply": "2022-03-13T21:27:09.794671Z",
     "shell.execute_reply.started": "2022-03-13T21:08:27.659985Z"
    },
    "papermill": {
     "duration": 0.056121,
     "end_time": "2022-03-13T21:27:09.794903",
     "exception": false,
     "start_time": "2022-03-13T21:27:09.738782",
     "status": "completed"
    },
    "tags": []
   },
   "outputs": [],
   "source": [
    "# model_c37 = build_naive_bayes_model(\n",
    "#     alpha=0.1, stop_words=STOP_WORDS_BASIC, analyzer=\"char\", ngram_range=(3, 7)\n",
    "# )\n"
   ]
  },
  {
   "cell_type": "code",
   "execution_count": 25,
   "id": "17038ce7",
   "metadata": {
    "execution": {
     "iopub.execute_input": "2022-03-13T21:27:09.960281Z",
     "iopub.status.busy": "2022-03-13T21:27:09.959399Z",
     "iopub.status.idle": "2022-03-13T21:27:09.965267Z",
     "shell.execute_reply": "2022-03-13T21:27:09.965727Z",
     "shell.execute_reply.started": "2022-03-13T21:08:27.668776Z"
    },
    "papermill": {
     "duration": 0.089901,
     "end_time": "2022-03-13T21:27:09.965864",
     "exception": false,
     "start_time": "2022-03-13T21:27:09.875963",
     "status": "completed"
    },
    "tags": []
   },
   "outputs": [],
   "source": [
    "# # NOTE notebook might allocate too much memory\n",
    "# pickle.dump(model_c37, open(\"model_c37.pkl\", \"wb\"))\n",
    "# del model_c37\n"
   ]
  },
  {
   "cell_type": "markdown",
   "id": "69584d3b",
   "metadata": {
    "papermill": {
     "duration": 0.06389,
     "end_time": "2022-03-13T21:27:10.093179",
     "exception": false,
     "start_time": "2022-03-13T21:27:10.029289",
     "status": "completed"
    },
    "tags": []
   },
   "source": [
    "---\n"
   ]
  },
  {
   "cell_type": "code",
   "execution_count": 26,
   "id": "4051d809",
   "metadata": {
    "execution": {
     "iopub.execute_input": "2022-03-13T21:27:10.224214Z",
     "iopub.status.busy": "2022-03-13T21:27:10.223437Z",
     "iopub.status.idle": "2022-03-13T21:27:10.226646Z",
     "shell.execute_reply": "2022-03-13T21:27:10.226040Z",
     "shell.execute_reply.started": "2022-03-13T21:08:27.677455Z"
    },
    "papermill": {
     "duration": 0.069746,
     "end_time": "2022-03-13T21:27:10.226801",
     "exception": false,
     "start_time": "2022-03-13T21:27:10.157055",
     "status": "completed"
    },
    "tags": []
   },
   "outputs": [],
   "source": [
    "# scoring = [\n",
    "#     \"neg_log_loss\",\n",
    "#     \"f1_micro\",\n",
    "# ]  # , \"f1_macro\", \"precision_micro\", \"recall_micro\"]\n",
    "# X = pd.concat([X_train, X_test])\n",
    "# y = pd.concat([y_train, y_test])\n",
    "# labels = y.unique()\n"
   ]
  },
  {
   "cell_type": "code",
   "execution_count": 27,
   "id": "2306ef24",
   "metadata": {
    "execution": {
     "iopub.execute_input": "2022-03-13T21:27:10.359376Z",
     "iopub.status.busy": "2022-03-13T21:27:10.358583Z",
     "iopub.status.idle": "2022-03-13T21:27:10.360663Z",
     "shell.execute_reply": "2022-03-13T21:27:10.360055Z",
     "shell.execute_reply.started": "2022-03-13T21:08:27.688623Z"
    },
    "papermill": {
     "duration": 0.070561,
     "end_time": "2022-03-13T21:27:10.360815",
     "exception": false,
     "start_time": "2022-03-13T21:27:10.290254",
     "status": "completed"
    },
    "tags": []
   },
   "outputs": [],
   "source": [
    "# # models = [\"combined\", \"model_c37\", \"model_w26\"]\n",
    "# result = {}\n",
    "# for model in models:\n",
    "#     mod = pickle.load(open(f\"{model}.pkl\", \"rb\"))\n",
    "#     result[model] = cross_validate(mod, X, y, scoring=scoring)\n",
    "#     del mod\n",
    "\n"
   ]
  },
  {
   "cell_type": "code",
   "execution_count": 28,
   "id": "c740cc34",
   "metadata": {
    "execution": {
     "iopub.execute_input": "2022-03-13T21:27:10.454462Z",
     "iopub.status.busy": "2022-03-13T21:27:10.453754Z",
     "iopub.status.idle": "2022-03-13T21:27:10.455818Z",
     "shell.execute_reply": "2022-03-13T21:27:10.456194Z",
     "shell.execute_reply.started": "2022-03-13T21:08:27.696933Z"
    },
    "papermill": {
     "duration": 0.044211,
     "end_time": "2022-03-13T21:27:10.456312",
     "exception": false,
     "start_time": "2022-03-13T21:27:10.412101",
     "status": "completed"
    },
    "tags": []
   },
   "outputs": [],
   "source": [
    "# for model in result:\n",
    "#     for key, val in result[model].items():\n",
    "#         result[model][key] = np.mean(val)\n",
    "#     print(result[model])\n",
    "\n",
    "# f1_scores = [r['test_f1_micro'] for r in result.values()]\n",
    "# neg_log_loss = [r['test_neg_log_loss'] for r in result.values()]\n",
    "# print(models[np.argmax(f1_scores)], models[np.argmin(neg_log_loss)])\n"
   ]
  },
  {
   "cell_type": "code",
   "execution_count": 29,
   "id": "d9891b17",
   "metadata": {
    "execution": {
     "iopub.execute_input": "2022-03-13T21:27:10.539645Z",
     "iopub.status.busy": "2022-03-13T21:27:10.538893Z",
     "iopub.status.idle": "2022-03-13T21:27:10.541016Z",
     "shell.execute_reply": "2022-03-13T21:27:10.541406Z",
     "shell.execute_reply.started": "2022-03-13T21:08:27.707229Z"
    },
    "papermill": {
     "duration": 0.045599,
     "end_time": "2022-03-13T21:27:10.541523",
     "exception": false,
     "start_time": "2022-03-13T21:27:10.495924",
     "status": "completed"
    },
    "tags": []
   },
   "outputs": [],
   "source": [
    "# model = models[np.argmax(f1_scores)]\n"
   ]
  },
  {
   "cell_type": "code",
   "execution_count": 30,
   "id": "ce1e084a",
   "metadata": {
    "execution": {
     "iopub.execute_input": "2022-03-13T21:27:10.623676Z",
     "iopub.status.busy": "2022-03-13T21:27:10.623128Z",
     "iopub.status.idle": "2022-03-13T21:27:10.626521Z",
     "shell.execute_reply": "2022-03-13T21:27:10.626131Z",
     "shell.execute_reply.started": "2022-03-13T21:08:27.716377Z"
    },
    "papermill": {
     "duration": 0.045726,
     "end_time": "2022-03-13T21:27:10.626648",
     "exception": false,
     "start_time": "2022-03-13T21:27:10.580922",
     "status": "completed"
    },
    "tags": []
   },
   "outputs": [],
   "source": [
    "# mod = pickle.load(open(f\"{model}.pkl\", \"rb\"))\n",
    "# _ = mod.fit(X_train, y_train)\n",
    "# y_pred = mod.predict(X_test)\n",
    "# clf_report = classification_report(y_test, y_pred, labels=labels)\n",
    "# print(clf_report)\n"
   ]
  },
  {
   "cell_type": "code",
   "execution_count": 31,
   "id": "cb4128a5",
   "metadata": {
    "execution": {
     "iopub.execute_input": "2022-03-13T21:27:10.709390Z",
     "iopub.status.busy": "2022-03-13T21:27:10.708652Z",
     "iopub.status.idle": "2022-03-13T21:27:10.710770Z",
     "shell.execute_reply": "2022-03-13T21:27:10.711144Z",
     "shell.execute_reply.started": "2022-03-13T21:08:27.726349Z"
    },
    "papermill": {
     "duration": 0.044753,
     "end_time": "2022-03-13T21:27:10.711268",
     "exception": false,
     "start_time": "2022-03-13T21:27:10.666515",
     "status": "completed"
    },
    "tags": []
   },
   "outputs": [],
   "source": [
    "# pickle.dump(mod, open(f\"{model}.pkl\", \"wb\"))\n",
    "\n",
    "# del mod"
   ]
  },
  {
   "cell_type": "code",
   "execution_count": 32,
   "id": "81721006",
   "metadata": {
    "execution": {
     "iopub.execute_input": "2022-03-13T21:27:10.792866Z",
     "iopub.status.busy": "2022-03-13T21:27:10.792139Z",
     "iopub.status.idle": "2022-03-13T21:27:10.794090Z",
     "shell.execute_reply": "2022-03-13T21:27:10.794458Z",
     "shell.execute_reply.started": "2022-03-13T21:08:27.735147Z"
    },
    "papermill": {
     "duration": 0.044383,
     "end_time": "2022-03-13T21:27:10.794607",
     "exception": false,
     "start_time": "2022-03-13T21:27:10.750224",
     "status": "completed"
    },
    "tags": []
   },
   "outputs": [],
   "source": [
    "# TODO TfidfVectorizer\n",
    "# TODO SVC\n"
   ]
  },
  {
   "cell_type": "markdown",
   "id": "8c57c616",
   "metadata": {
    "papermill": {
     "duration": 0.039102,
     "end_time": "2022-03-13T21:27:10.872905",
     "exception": false,
     "start_time": "2022-03-13T21:27:10.833803",
     "status": "completed"
    },
    "tags": []
   },
   "source": [
    "---\n"
   ]
  },
  {
   "cell_type": "code",
   "execution_count": 33,
   "id": "32fc2e40",
   "metadata": {
    "execution": {
     "iopub.execute_input": "2022-03-13T21:27:10.957232Z",
     "iopub.status.busy": "2022-03-13T21:27:10.956449Z",
     "iopub.status.idle": "2022-03-13T21:27:32.998372Z",
     "shell.execute_reply": "2022-03-13T21:27:32.997904Z",
     "shell.execute_reply.started": "2022-03-13T21:08:27.745412Z"
    },
    "papermill": {
     "duration": 22.086291,
     "end_time": "2022-03-13T21:27:32.998500",
     "exception": false,
     "start_time": "2022-03-13T21:27:10.912209",
     "status": "completed"
    },
    "tags": []
   },
   "outputs": [],
   "source": [
    "tknsr = build_tokeniser(pd.concat([X_train, X_test]).values)\n",
    "X_train_padded = tokenise_pad_texts(X_train, tknsr)\n",
    "X_test_padded = tokenise_pad_texts(X_test, tknsr)\n",
    "\n",
    "y1h = onehot_encode_labels(pd.concat([y_train, y_test]))\n",
    "y_train1h = y1h[:y_train.shape[0]]\n",
    "y_test1h = y1h[y_train.shape[0]:]\n"
   ]
  },
  {
   "cell_type": "code",
   "execution_count": 34,
   "id": "b1f98a76",
   "metadata": {
    "execution": {
     "iopub.execute_input": "2022-03-13T21:27:33.082056Z",
     "iopub.status.busy": "2022-03-13T21:27:33.081267Z",
     "iopub.status.idle": "2022-03-13T21:27:33.083760Z",
     "shell.execute_reply": "2022-03-13T21:27:33.083282Z",
     "shell.execute_reply.started": "2022-03-13T21:08:54.653364Z"
    },
    "papermill": {
     "duration": 0.045286,
     "end_time": "2022-03-13T21:27:33.083864",
     "exception": false,
     "start_time": "2022-03-13T21:27:33.038578",
     "status": "completed"
    },
    "tags": []
   },
   "outputs": [],
   "source": [
    "# model = tf.keras.models.Sequential(\n",
    "#     layers=[\n",
    "#         tf.keras.layers.Embedding(\n",
    "#             len(tknsr.word_counts) + 1,\n",
    "#             128,\n",
    "#             embeddings_initializer=tf.keras.initializers.RandomUniform(),\n",
    "#             input_length=MAX_LENGTH,\n",
    "#         ),\n",
    "#         tf.keras.layers.Bidirectional(tf.keras.layers.LSTM(64, dropout=0.25)),\n",
    "#         tf.keras.layers.Dropout(0.5),\n",
    "#         tf.keras.layers.Dense(64, activation=\"relu\"),\n",
    "#         tf.keras.layers.Dense(y_train1h.shape[1], activation=\"softmax\"),\n",
    "#     ],\n",
    "#     name=\"deep_classifier\",\n",
    "# )\n",
    "\n",
    "# model.compile(\"adam\", \"categorical_crossentropy\", metrics=[\"categorical_accuracy\"])\n"
   ]
  },
  {
   "cell_type": "code",
   "execution_count": 35,
   "id": "438fca79",
   "metadata": {
    "execution": {
     "iopub.execute_input": "2022-03-13T21:27:33.165174Z",
     "iopub.status.busy": "2022-03-13T21:27:33.164461Z",
     "iopub.status.idle": "2022-03-13T21:27:33.166824Z",
     "shell.execute_reply": "2022-03-13T21:27:33.166405Z",
     "shell.execute_reply.started": "2022-03-13T21:08:54.661394Z"
    },
    "papermill": {
     "duration": 0.043774,
     "end_time": "2022-03-13T21:27:33.166927",
     "exception": false,
     "start_time": "2022-03-13T21:27:33.123153",
     "status": "completed"
    },
    "tags": []
   },
   "outputs": [],
   "source": [
    "# _ = model.fit(\n",
    "#     X_train_padded,\n",
    "#     y_train1h,\n",
    "#     batch_size=32,\n",
    "#     epochs=2,\n",
    "#     verbose=1,\n",
    "#     validation_data=(X_test_padded, y_test1h),\n",
    "# )\n"
   ]
  },
  {
   "cell_type": "code",
   "execution_count": 36,
   "id": "f4187399",
   "metadata": {
    "execution": {
     "iopub.execute_input": "2022-03-13T21:27:33.248915Z",
     "iopub.status.busy": "2022-03-13T21:27:33.248241Z",
     "iopub.status.idle": "2022-03-13T21:27:33.250348Z",
     "shell.execute_reply": "2022-03-13T21:27:33.250782Z",
     "shell.execute_reply.started": "2022-03-13T21:08:54.676911Z"
    },
    "papermill": {
     "duration": 0.044714,
     "end_time": "2022-03-13T21:27:33.250917",
     "exception": false,
     "start_time": "2022-03-13T21:27:33.206203",
     "status": "completed"
    },
    "tags": []
   },
   "outputs": [],
   "source": [
    "# # FIXME takes forever to train on kaggle, not suitable for local m/c\n",
    "# model = tf.keras.models.Sequential(\n",
    "#     layers=[\n",
    "#         tf.keras.layers.Embedding(\n",
    "#             len(tknsr.word_counts) + 1,\n",
    "#             300,\n",
    "#             embeddings_initializer=tf.keras.initializers.RandomUniform(),\n",
    "#             input_length=MAX_LENGTH,\n",
    "#         ),\n",
    "#         tf.keras.layers.LSTM(\n",
    "#             128, dropout=0.25, recurrent_dropout=0.15, return_sequences=True\n",
    "#         ),\n",
    "#         tf.keras.layers.LSTM(\n",
    "#             64, dropout=0.2, recurrent_dropout=0.1, return_sequences=False\n",
    "#         ),\n",
    "#         tf.keras.layers.Dense(32),\n",
    "#         tf.keras.layers.Dropout(0.25),\n",
    "#         tf.keras.layers.Dense(y_train1h.shape[1], activation=\"softmax\"),\n",
    "#     ],\n",
    "#     name=\"clf_rnn\",\n",
    "# )\n",
    "\n",
    "# model.compile(\"adam\", \"categorical_crossentropy\", metrics=[\"categorical_accuracy\"])\n"
   ]
  },
  {
   "cell_type": "code",
   "execution_count": 37,
   "id": "15e9355d",
   "metadata": {
    "execution": {
     "iopub.execute_input": "2022-03-13T21:27:33.332479Z",
     "iopub.status.busy": "2022-03-13T21:27:33.331705Z",
     "iopub.status.idle": "2022-03-13T21:27:33.333667Z",
     "shell.execute_reply": "2022-03-13T21:27:33.334045Z",
     "shell.execute_reply.started": "2022-03-13T21:08:54.687217Z"
    },
    "papermill": {
     "duration": 0.0439,
     "end_time": "2022-03-13T21:27:33.334161",
     "exception": false,
     "start_time": "2022-03-13T21:27:33.290261",
     "status": "completed"
    },
    "tags": []
   },
   "outputs": [],
   "source": [
    "# model_json = model.to_json()\n",
    "# json.dump(json.loads(model_json), open('rnn_model.json', \"w\"))\n",
    "# model.save_weights('rnn_model_weights.h5')\n"
   ]
  },
  {
   "cell_type": "markdown",
   "id": "c36c1eee",
   "metadata": {},
   "source": [
    "## Model Evaluation\n"
   ]
  },
  {
   "cell_type": "code",
   "execution_count": 38,
   "id": "894995b8",
   "metadata": {
    "execution": {
     "iopub.execute_input": "2022-03-13T21:27:33.416105Z",
     "iopub.status.busy": "2022-03-13T21:27:33.415611Z",
     "iopub.status.idle": "2022-03-13T21:27:44.270939Z",
     "shell.execute_reply": "2022-03-13T21:27:44.270419Z",
     "shell.execute_reply.started": "2022-03-13T21:08:54.698379Z"
    },
    "papermill": {
     "duration": 10.897638,
     "end_time": "2022-03-13T21:27:44.271075",
     "exception": false,
     "start_time": "2022-03-13T21:27:33.373437",
     "status": "completed"
    },
    "tags": []
   },
   "outputs": [],
   "source": [
    "valid_df = \"../input/aim-task-ml/valid.pkl\"\n",
    "valid_df = pickle.load(open(valid_df, 'rb'))\n",
    "\n",
    "y_valid = valid_df[\"dialect\"]\n",
    "X_valid = preprocess(valid_df[\"tweets\"])\n",
    "\n",
    "labels = y_valid.unique()\n"
   ]
  },
  {
   "cell_type": "code",
   "execution_count": 39,
   "id": "85528e48",
   "metadata": {
    "execution": {
     "iopub.execute_input": "2022-03-13T21:27:44.355301Z",
     "iopub.status.busy": "2022-03-13T21:27:44.354809Z",
     "iopub.status.idle": "2022-03-13T21:28:31.966388Z",
     "shell.execute_reply": "2022-03-13T21:28:31.965509Z",
     "shell.execute_reply.started": "2022-03-13T21:09:07.205270Z"
    },
    "papermill": {
     "duration": 47.654855,
     "end_time": "2022-03-13T21:28:31.966521",
     "exception": false,
     "start_time": "2022-03-13T21:27:44.311666",
     "status": "completed"
    },
    "tags": []
   },
   "outputs": [],
   "source": [
    "model_c37 = \"../input/aim-task-ml/model_c37.pkl\"\n",
    "model_c37 = pickle.load(open(model_c37, 'rb'))\n"
   ]
  },
  {
   "cell_type": "code",
   "execution_count": 40,
   "id": "5943ae45",
   "metadata": {
    "execution": {
     "iopub.execute_input": "2022-03-13T21:28:32.052410Z",
     "iopub.status.busy": "2022-03-13T21:28:32.051899Z",
     "iopub.status.idle": "2022-03-13T21:28:38.414779Z",
     "shell.execute_reply": "2022-03-13T21:28:38.414295Z",
     "shell.execute_reply.started": "2022-03-13T21:09:50.086587Z"
    },
    "papermill": {
     "duration": 6.40716,
     "end_time": "2022-03-13T21:28:38.414908",
     "exception": false,
     "start_time": "2022-03-13T21:28:32.007748",
     "status": "completed"
    },
    "tags": []
   },
   "outputs": [
    {
     "name": "stderr",
     "output_type": "stream",
     "text": [
      "2022-03-13 21:28:32.170063: I tensorflow/stream_executor/cuda/cuda_gpu_executor.cc:937] successful NUMA node read from SysFS had negative value (-1), but there must be at least one NUMA node, so returning NUMA node zero\n",
      "2022-03-13 21:28:32.298834: I tensorflow/stream_executor/cuda/cuda_gpu_executor.cc:937] successful NUMA node read from SysFS had negative value (-1), but there must be at least one NUMA node, so returning NUMA node zero\n",
      "2022-03-13 21:28:32.299506: I tensorflow/stream_executor/cuda/cuda_gpu_executor.cc:937] successful NUMA node read from SysFS had negative value (-1), but there must be at least one NUMA node, so returning NUMA node zero\n",
      "2022-03-13 21:28:32.301711: I tensorflow/core/platform/cpu_feature_guard.cc:142] This TensorFlow binary is optimized with oneAPI Deep Neural Network Library (oneDNN) to use the following CPU instructions in performance-critical operations:  AVX2 AVX512F FMA\n",
      "To enable them in other operations, rebuild TensorFlow with the appropriate compiler flags.\n",
      "2022-03-13 21:28:32.302025: I tensorflow/stream_executor/cuda/cuda_gpu_executor.cc:937] successful NUMA node read from SysFS had negative value (-1), but there must be at least one NUMA node, so returning NUMA node zero\n",
      "2022-03-13 21:28:32.302732: I tensorflow/stream_executor/cuda/cuda_gpu_executor.cc:937] successful NUMA node read from SysFS had negative value (-1), but there must be at least one NUMA node, so returning NUMA node zero\n",
      "2022-03-13 21:28:32.303336: I tensorflow/stream_executor/cuda/cuda_gpu_executor.cc:937] successful NUMA node read from SysFS had negative value (-1), but there must be at least one NUMA node, so returning NUMA node zero\n",
      "2022-03-13 21:28:34.095660: I tensorflow/stream_executor/cuda/cuda_gpu_executor.cc:937] successful NUMA node read from SysFS had negative value (-1), but there must be at least one NUMA node, so returning NUMA node zero\n",
      "2022-03-13 21:28:34.096436: I tensorflow/stream_executor/cuda/cuda_gpu_executor.cc:937] successful NUMA node read from SysFS had negative value (-1), but there must be at least one NUMA node, so returning NUMA node zero\n",
      "2022-03-13 21:28:34.097115: I tensorflow/stream_executor/cuda/cuda_gpu_executor.cc:937] successful NUMA node read from SysFS had negative value (-1), but there must be at least one NUMA node, so returning NUMA node zero\n",
      "2022-03-13 21:28:34.098723: I tensorflow/core/common_runtime/gpu/gpu_device.cc:1510] Created device /job:localhost/replica:0/task:0/device:GPU:0 with 15403 MB memory:  -> device: 0, name: Tesla P100-PCIE-16GB, pci bus id: 0000:00:04.0, compute capability: 6.0\n",
      "2022-03-13 21:28:38.091356: W tensorflow/core/framework/cpu_allocator_impl.cc:80] Allocation of 278597632 exceeds 10% of free system memory.\n"
     ]
    }
   ],
   "source": [
    "from tensorflow.keras.models import model_from_json\n",
    "rnn_model = \"../input/aim-task-dl/rnn_model.json\"\n",
    "rnn_model = json.load(open(rnn_model))\n",
    "rnn_model = model_from_json(json.dumps(rnn_model))\n",
    "\n",
    "rnn_model.compile(\"adam\", \"categorical_crossentropy\", metrics=[\"categorical_accuracy\"])\n",
    "\n",
    "rnn_model.load_weights(\"../input/aim-task-dl/rnn_model_weights.h5\")\n"
   ]
  },
  {
   "cell_type": "code",
   "execution_count": 41,
   "id": "23e3ddf7",
   "metadata": {
    "execution": {
     "iopub.execute_input": "2022-03-13T21:28:38.543746Z",
     "iopub.status.busy": "2022-03-13T21:28:38.533443Z",
     "iopub.status.idle": "2022-03-13T21:29:16.587571Z",
     "shell.execute_reply": "2022-03-13T21:29:16.588196Z",
     "shell.execute_reply.started": "2022-03-13T21:09:54.770424Z"
    },
    "papermill": {
     "duration": 38.132683,
     "end_time": "2022-03-13T21:29:16.588395",
     "exception": false,
     "start_time": "2022-03-13T21:28:38.455712",
     "status": "completed"
    },
    "tags": []
   },
   "outputs": [
    {
     "name": "stdout",
     "output_type": "stream",
     "text": [
      "              precision    recall  f1-score   support\n",
      "\n",
      "          SD     0.8095    0.5563    0.6594      2887\n",
      "          PL     0.5078    0.6324    0.5633      8749\n",
      "          KW     0.4880    0.6571    0.5600      8422\n",
      "          DZ     0.6717    0.5675    0.6152      3237\n",
      "          EG     0.7072    0.8993    0.7918     11527\n",
      "          AE     0.4169    0.4687    0.4413      5259\n",
      "          BH     0.4209    0.3629    0.3897      5258\n",
      "          OM     0.5635    0.3087    0.3989      3823\n",
      "          QA     0.4410    0.5776    0.5001      6214\n",
      "          SY     0.5865    0.2725    0.3721      3248\n",
      "          JO     0.4789    0.3370    0.3956      5584\n",
      "          SA     0.4459    0.4964    0.4698      5367\n",
      "          LY     0.7291    0.7222    0.7256      7300\n",
      "          TN     0.8252    0.3678    0.5088      1849\n",
      "          LB     0.6647    0.7058    0.6846      5524\n",
      "          IQ     0.7671    0.4931    0.6003      3099\n",
      "          MA     0.8614    0.6192    0.7204      2308\n",
      "          YE     0.6205    0.1128    0.1910      1985\n",
      "\n",
      "    accuracy                         0.5727     91640\n",
      "   macro avg     0.6114    0.5087    0.5327     91640\n",
      "weighted avg     0.5849    0.5727    0.5623     91640\n",
      "\n"
     ]
    }
   ],
   "source": [
    "y_pred = model_c37.predict(X_valid)\n",
    "clf_report = classification_report(y_valid, y_pred, labels=labels, digits=4)\n",
    "print(clf_report)\n"
   ]
  },
  {
   "cell_type": "code",
   "execution_count": 42,
   "id": "14d87841",
   "metadata": {
    "execution": {
     "iopub.execute_input": "2022-03-13T21:29:16.681800Z",
     "iopub.status.busy": "2022-03-13T21:29:16.677320Z",
     "iopub.status.idle": "2022-03-13T21:30:53.876410Z",
     "shell.execute_reply": "2022-03-13T21:30:53.875949Z",
     "shell.execute_reply.started": "2022-03-13T21:10:42.643736Z"
    },
    "papermill": {
     "duration": 97.247095,
     "end_time": "2022-03-13T21:30:53.876532",
     "exception": false,
     "start_time": "2022-03-13T21:29:16.629437",
     "status": "completed"
    },
    "tags": []
   },
   "outputs": [
    {
     "name": "stderr",
     "output_type": "stream",
     "text": [
      "2022-03-13 21:29:19.148319: W tensorflow/core/framework/cpu_allocator_impl.cc:80] Allocation of 375357440 exceeds 10% of free system memory.\n",
      "2022-03-13 21:29:19.482941: I tensorflow/compiler/mlir/mlir_graph_optimization_pass.cc:185] None of the MLIR Optimization Passes are enabled (registered 2)\n",
      "2022-03-13 21:29:21.404304: I tensorflow/stream_executor/cuda/cuda_dnn.cc:369] Loaded cuDNN version 8005\n"
     ]
    },
    {
     "name": "stdout",
     "output_type": "stream",
     "text": [
      "2864/2864 [==============================] - 94s 32ms/step - loss: 1.5785 - categorical_accuracy: 0.5275\n"
     ]
    },
    {
     "data": {
      "text/plain": [
       "{'loss': 1.5785019397735596, 'categorical_accuracy': 0.527531623840332}"
      ]
     },
     "execution_count": 42,
     "metadata": {},
     "output_type": "execute_result"
    }
   ],
   "source": [
    "X_valid_padded = tokenise_pad_texts(X_valid, tknsr)\n",
    "y_valid_1h = onehot_encode_labels(y_valid)\n",
    "\n",
    "rnn_model.evaluate(X_valid_padded, y_valid_1h, return_dict=True)\n"
   ]
  }
 ],
 "metadata": {
  "kernelspec": {
   "display_name": "Python 3",
   "language": "python",
   "name": "python3"
  },
  "language_info": {
   "codemirror_mode": {
    "name": "ipython",
    "version": 3
   },
   "file_extension": ".py",
   "mimetype": "text/x-python",
   "name": "python",
   "nbconvert_exporter": "python",
   "pygments_lexer": "ipython3",
   "version": "3.7.12"
  },
  "papermill": {
   "default_parameters": {},
   "duration": 808.808311,
   "end_time": "2022-03-13T21:30:57.070263",
   "environment_variables": {},
   "exception": null,
   "input_path": "__notebook__.ipynb",
   "output_path": "__notebook__.ipynb",
   "parameters": {},
   "start_time": "2022-03-13T21:17:28.261952",
   "version": "2.3.3"
  }
 },
 "nbformat": 4,
 "nbformat_minor": 5
}
