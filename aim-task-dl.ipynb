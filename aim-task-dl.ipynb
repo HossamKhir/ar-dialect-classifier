{
 "cells": [
  {
   "cell_type": "code",
   "execution_count": 1,
   "id": "a1d97a76",
   "metadata": {
    "execution": {
     "iopub.execute_input": "2022-03-12T14:05:53.629040Z",
     "iopub.status.busy": "2022-03-12T14:05:53.627672Z",
     "iopub.status.idle": "2022-03-12T14:05:53.630021Z",
     "shell.execute_reply": "2022-03-12T14:05:53.629525Z",
     "shell.execute_reply.started": "2022-03-12T13:44:57.460996Z"
    },
    "papermill": {
     "duration": 0.04402,
     "end_time": "2022-03-12T14:05:53.630143",
     "exception": false,
     "start_time": "2022-03-12T14:05:53.586123",
     "status": "completed"
    },
    "tags": []
   },
   "outputs": [],
   "source": [
    "# unicode arabic \n",
    "# https://unicode.org/charts/PDF/U0600.pdf\n",
    "# https://unicode.org/charts/PDF/UFE70.pdf\n",
    "\n",
    "# mazajak cbow\n",
    "# http://mazajak.inf.ed.ac.uk:8000/get_cbow_250\n",
    "# http://mazajak.inf.ed.ac.uk:8000/get_sg_250\n",
    "\n",
    "# !python3 -m pip install farasapy\n"
   ]
  },
  {
   "cell_type": "code",
   "execution_count": 2,
   "id": "8c6c25e2",
   "metadata": {
    "execution": {
     "iopub.execute_input": "2022-03-12T14:05:53.708062Z",
     "iopub.status.busy": "2022-03-12T14:05:53.707272Z",
     "iopub.status.idle": "2022-03-12T14:05:59.106263Z",
     "shell.execute_reply": "2022-03-12T14:05:59.107362Z",
     "shell.execute_reply.started": "2022-03-12T13:44:57.489872Z"
    },
    "papermill": {
     "duration": 5.442138,
     "end_time": "2022-03-12T14:05:59.107603",
     "exception": false,
     "start_time": "2022-03-12T14:05:53.665465",
     "status": "completed"
    },
    "tags": []
   },
   "outputs": [],
   "source": [
    "import json\n",
    "import os\n",
    "import matplotlib.pyplot as plt\n",
    "import nltk\n",
    "import numpy as np\n",
    "import pandas as pd\n",
    "import pickle\n",
    "import random\n",
    "import re\n",
    "import requests\n",
    "import tensorflow as tf\n",
    "from nltk.corpus import stopwords\n",
    "from nltk.tokenize import RegexpTokenizer\n",
    "from sklearn.feature_extraction.text import CountVectorizer\n",
    "from sklearn.metrics import classification_report\n",
    "from sklearn.model_selection import train_test_split, cross_validate\n",
    "from sklearn.naive_bayes import MultinomialNB\n",
    "from sklearn.pipeline import make_pipeline\n",
    "from typing import Callable, Tuple, Union\n",
    "from pylab import rcParams\n",
    "\n",
    "rcParams[\"figure.figsize\"] = (16,9)\n",
    "\n",
    "try:\n",
    "    STOP_WORDS_BASIC = stopwords.words(\"arabic\")\n",
    "except LookupError:\n",
    "    nltk.download(\"stopwords\")\n",
    "    STOP_WORDS_BASIC = stopwords.words(\"arabic\")\n",
    "\n",
    "# from farasa.segmenter import FarasaSegmenter\n",
    "random.seed(42)\n",
    "np.random.seed(42)\n",
    "\n",
    "DATA_PATH_CSV = \"../input/dialect-dataset/\"\n",
    "# DATA_PATH_PKL = \"../input/dialectdataset/\"\n",
    "DATA_PATH_PKL = \"../input/aim-task/\"\n",
    "DATA_PATH_OUT = \"../working/\"\n",
    "AIM_URI = \"https://recruitment.aimtechnologies.co/ai-tasks\"\n",
    "ID_LIMIT = 1000\n",
    "STOP_WORDS_BASIC = stopwords.words(\"arabic\")\n",
    "FILENAME = \"dialect_dataset\"\n",
    "MAX_LENGTH = 1024  # FIXME should be determined by EDA\n"
   ]
  },
  {
   "cell_type": "markdown",
   "id": "2e376f99",
   "metadata": {
    "papermill": {
     "duration": 0.055018,
     "end_time": "2022-03-12T14:05:59.221556",
     "exception": false,
     "start_time": "2022-03-12T14:05:59.166538",
     "status": "completed"
    },
    "tags": []
   },
   "source": [
    "---\n",
    "\n",
    "## functions for fetching data\n"
   ]
  },
  {
   "cell_type": "code",
   "execution_count": 3,
   "id": "65ad18bf",
   "metadata": {
    "execution": {
     "iopub.execute_input": "2022-03-12T14:05:59.344040Z",
     "iopub.status.busy": "2022-03-12T14:05:59.343234Z",
     "iopub.status.idle": "2022-03-12T14:05:59.360185Z",
     "shell.execute_reply": "2022-03-12T14:05:59.359465Z",
     "shell.execute_reply.started": "2022-03-12T13:45:03.102315Z"
    },
    "papermill": {
     "duration": 0.08283,
     "end_time": "2022-03-12T14:05:59.360296",
     "exception": false,
     "start_time": "2022-03-12T14:05:59.277466",
     "status": "completed"
    },
    "tags": []
   },
   "outputs": [],
   "source": [
    "def fetch_tweets_by_id(ids: list, object_hook: Callable = None) -> dict:\n",
    "    \"\"\"preforms a POST request to the AIM_URI, and returns the dictionary of\n",
    "        id:tweet on success, raises an Exception on failure. The function\n",
    "        handles the limit for the AIM_URI using `ID_LIMIT` constant\n",
    "\n",
    "    Parameters\n",
    "    ----------\n",
    "    ids: array-like\n",
    "        a list or array holding the IDs to retrieve, each is of type str\n",
    "\n",
    "    Returns\n",
    "    -------\n",
    "    out: dict\n",
    "        a dictionary where the keys are the given IDs and the corresponding\n",
    "        values are the documents\n",
    "\n",
    "    Raises\n",
    "    ------\n",
    "    FIXME add proper raises\n",
    "    \"\"\"\n",
    "    tweets = {}\n",
    "    for i in range(0, len(ids), ID_LIMIT):\n",
    "        data = json.dumps(ids[i : i + ID_LIMIT])\n",
    "        res = requests.post(AIM_URI, data)\n",
    "        if res.ok:\n",
    "            res.encoding = \"utf8\"\n",
    "            i_docs = json.loads(res.text, object_hook=object_hook)\n",
    "            tweets.update(i_docs)\n",
    "        else:\n",
    "            raise Exception(\"FIXME: check status code of response\")\n",
    "    return tweets\n",
    "\n",
    "\n",
    "def check_cached_data() -> bool:\n",
    "    \"\"\"checks if the data has been loaded before and cached\n",
    "\n",
    "    FIXME complete the pydoc\n",
    "    \"\"\"\n",
    "    filename = FILENAME + \".pkl\"\n",
    "    for _, _, filenames in os.walk(DATA_PATH_PKL):\n",
    "        if filename in filenames:\n",
    "            return True\n",
    "    return False\n",
    "\n",
    "\n",
    "def load_local_dataset() -> pd.DataFrame:\n",
    "    \"\"\"loads the local dataset\n",
    "\n",
    "    FIXME complete the pydoc\n",
    "    \"\"\"\n",
    "    file_path = os.path.join(DATA_PATH_CSV, FILENAME + \".csv\")\n",
    "    df = pd.read_csv(file_path, index_col=[\"id\"])\n",
    "    df[\"dialect\"] = df[\"dialect\"].astype(\"category\")\n",
    "    return df\n",
    "\n",
    "\n",
    "def fetch_remote_dataset(ids: list, object_hook: Callable = None) -> pd.DataFrame:\n",
    "    \"\"\"fetches the dataset by POSTing to URI\n",
    "\n",
    "    FIXME complete the pydoc\n",
    "    \"\"\"\n",
    "    tweets = fetch_tweets_by_id(ids, object_hook=object_hook)\n",
    "    return pd.DataFrame(\n",
    "        tweets.values(), index=[int(k) for k in tweets.keys()], columns=[\"tweets\"]\n",
    "    )\n",
    "\n",
    "\n",
    "def load_full_dataset(\n",
    "    force: bool = False, cache: bool = True, object_hook: Callable = None\n",
    ") -> pd.DataFrame:\n",
    "    \"\"\"loads the full dataset\n",
    "\n",
    "    # FIXME complete the pydoc\n",
    "    \"\"\"\n",
    "    if not force and check_cached_data():\n",
    "        cached_file_path = os.path.join(DATA_PATH_PKL, FILENAME + \".pkl\")\n",
    "        return pickle.load(open(cached_file_path, \"rb\"))\n",
    "    else:\n",
    "        local_df = load_local_dataset()\n",
    "        ids = local_df.index.values.astype(str).tolist()\n",
    "        remote_df = fetch_remote_dataset(ids, object_hook=object_hook)\n",
    "        full_df = local_df.join(remote_df, on=local_df.index)\n",
    "        if cache:\n",
    "            cached_file_path = os.path.join(DATA_PATH_OUT, FILENAME + \".pkl\")\n",
    "            pickle.dump(full_df, open(cached_file_path, \"wb\"))\n",
    "        return full_df\n"
   ]
  },
  {
   "cell_type": "markdown",
   "id": "9c32dc33",
   "metadata": {
    "papermill": {
     "duration": 0.034118,
     "end_time": "2022-03-12T14:05:59.428531",
     "exception": false,
     "start_time": "2022-03-12T14:05:59.394413",
     "status": "completed"
    },
    "tags": []
   },
   "source": [
    "## Function for loading saved `sklearn` models\n"
   ]
  },
  {
   "cell_type": "code",
   "execution_count": 4,
   "id": "0696ac6a",
   "metadata": {
    "execution": {
     "iopub.execute_input": "2022-03-12T14:05:59.502296Z",
     "iopub.status.busy": "2022-03-12T14:05:59.501225Z",
     "iopub.status.idle": "2022-03-12T14:05:59.503853Z",
     "shell.execute_reply": "2022-03-12T14:05:59.503416Z",
     "shell.execute_reply.started": "2022-03-12T13:45:03.124033Z"
    },
    "papermill": {
     "duration": 0.041099,
     "end_time": "2022-03-12T14:05:59.503959",
     "exception": false,
     "start_time": "2022-03-12T14:05:59.462860",
     "status": "completed"
    },
    "tags": []
   },
   "outputs": [],
   "source": [
    "def load_classic_model(name: str = \"benchmark\"):\n",
    "    \"\"\"loads a classic ML model saved as `.pkl` pickled file\n",
    "\n",
    "    Parameters:\n",
    "    -----------\n",
    "\n",
    "    Returns:\n",
    "    --------\n",
    "\n",
    "    Raises:\n",
    "    -------\n",
    "\n",
    "    TODO complete the pydoc\n",
    "    \"\"\"\n",
    "    path = os.path.join(DATA_PATH_PKL, f\"models/{name}.pkl\")\n",
    "    if not os.path.isfile(path):\n",
    "        raise FileNotFoundError(f\"Could not find model {name}!\")\n",
    "    return pickle.load(open(path, \"rb\"))\n"
   ]
  },
  {
   "cell_type": "markdown",
   "id": "1be6669e",
   "metadata": {
    "papermill": {
     "duration": 0.034178,
     "end_time": "2022-03-12T14:05:59.571928",
     "exception": false,
     "start_time": "2022-03-12T14:05:59.537750",
     "status": "completed"
    },
    "tags": []
   },
   "source": [
    "## Function to save validation set to disk\n"
   ]
  },
  {
   "cell_type": "code",
   "execution_count": 5,
   "id": "16473db0",
   "metadata": {
    "execution": {
     "iopub.execute_input": "2022-03-12T14:05:59.645873Z",
     "iopub.status.busy": "2022-03-12T14:05:59.645090Z",
     "iopub.status.idle": "2022-03-12T14:05:59.647019Z",
     "shell.execute_reply": "2022-03-12T14:05:59.647380Z",
     "shell.execute_reply.started": "2022-03-12T13:45:03.133183Z"
    },
    "papermill": {
     "duration": 0.041689,
     "end_time": "2022-03-12T14:05:59.647529",
     "exception": false,
     "start_time": "2022-03-12T14:05:59.605840",
     "status": "completed"
    },
    "tags": []
   },
   "outputs": [],
   "source": [
    "def store_validation_set(\n",
    "    df: pd.DataFrame, set_size: float = 0.2\n",
    ") -> Tuple[pd.DataFrame, pd.DataFrame]:\n",
    "    \"\"\"stores a copy of validation set on disk\n",
    "\n",
    "    FIXME complete pydoc\n",
    "    \"\"\"\n",
    "    y = df[\"dialect\"]\n",
    "    train_df, valid_df = train_test_split(\n",
    "        df, test_size=set_size, random_state=42, stratify=y\n",
    "    )\n",
    "    valid_set_path = os.path.join(DATA_PATH_OUT, \"valid.pkl\")\n",
    "    pickle.dump(valid_df, open(valid_set_path, \"wb\"))\n",
    "    return train_df, valid_df\n"
   ]
  },
  {
   "cell_type": "markdown",
   "id": "db999951",
   "metadata": {
    "papermill": {
     "duration": 0.034085,
     "end_time": "2022-03-12T14:05:59.715872",
     "exception": false,
     "start_time": "2022-03-12T14:05:59.681787",
     "status": "completed"
    },
    "tags": []
   },
   "source": [
    "--- \n",
    "\n",
    "## Fetching the data\n"
   ]
  },
  {
   "cell_type": "code",
   "execution_count": 6,
   "id": "ad3a7cbb",
   "metadata": {
    "execution": {
     "iopub.execute_input": "2022-03-12T14:05:59.788261Z",
     "iopub.status.busy": "2022-03-12T14:05:59.787677Z",
     "iopub.status.idle": "2022-03-12T14:06:01.671493Z",
     "shell.execute_reply": "2022-03-12T14:06:01.670582Z",
     "shell.execute_reply.started": "2022-03-12T13:45:03.144981Z"
    },
    "papermill": {
     "duration": 1.921652,
     "end_time": "2022-03-12T14:06:01.671657",
     "exception": false,
     "start_time": "2022-03-12T14:05:59.750005",
     "status": "completed"
    },
    "tags": []
   },
   "outputs": [],
   "source": [
    "full_df = load_full_dataset()\n",
    "# keep a validation set aside\n",
    "df, _ = store_validation_set(full_df)\n",
    "\n",
    "del _\n"
   ]
  },
  {
   "cell_type": "markdown",
   "id": "a281783c",
   "metadata": {
    "papermill": {
     "duration": 0.034476,
     "end_time": "2022-03-12T14:06:01.740862",
     "exception": false,
     "start_time": "2022-03-12T14:06:01.706386",
     "status": "completed"
    },
    "tags": []
   },
   "source": [
    "---\n",
    "\n",
    "## preprocessing\n"
   ]
  },
  {
   "cell_type": "code",
   "execution_count": 7,
   "id": "304e8fab",
   "metadata": {
    "execution": {
     "iopub.execute_input": "2022-03-12T14:06:01.818082Z",
     "iopub.status.busy": "2022-03-12T14:06:01.817491Z",
     "iopub.status.idle": "2022-03-12T14:06:01.821242Z",
     "shell.execute_reply": "2022-03-12T14:06:01.820833Z",
     "shell.execute_reply.started": "2022-03-12T13:45:05.845883Z"
    },
    "papermill": {
     "duration": 0.046287,
     "end_time": "2022-03-12T14:06:01.821353",
     "exception": false,
     "start_time": "2022-03-12T14:06:01.775066",
     "status": "completed"
    },
    "tags": []
   },
   "outputs": [],
   "source": [
    "REGEX_HANDLER = r\"(?u)@\\w+\"\n",
    "REGEX_HYPERLINK = r\"(?u)https?://\\w+\"\n",
    "REGEX_HASHTAG = r\"(?u)#(\\w+)\"\n",
    "# to capture letters that repeat over 3 times\n",
    "REGEX_CHAR_3_PLUS = r\"(?u)(?=(\\w))\\1{3,}\"\n",
    "\n",
    "# to capture non-arabic, & non-farsi unicodes\n",
    "REGEX_NOT_ARA_IRA = r\"(?u)\\b[^\\u0600-\\u06ff\\ufe70-\\ufefc_]+\\b\"\n",
    "\n",
    "# to capture most common arabic glyphs\n",
    "REGEX_RANGE_ARA = r\"\\ufe70-\\ufefc\\u0621-\\u063a\\u0640-\\u0652\\u060c\\u061f\"\n",
    "REGEX_NOT_ARA = r\"(?u)\\b[^\"+ REGEX_RANGE_ARA + \"]+\\b\"\n",
    "\n",
    "# converting farsi glyphs into arabic\n",
    "REGEX_IRA2ARA = {\n",
    "    r\"\\u06fd\": \"\\u0621\",\n",
    "    r\"[\\u0676\\u0677]\": \"\\u0624\",\n",
    "    r\"[\\u0678\\u06d3]\": \"\\u0626\",\n",
    "    r\"[\\u0622\\u0623\\u0625\\u0671-\\u0675]\": \"\\u0627\",\n",
    "    r\"[\\u067b\\u067e\\u0680]\": \"\\u0628\",\n",
    "    r\"[\\u067a\\u067c\\u067d\\u067f]\": \"\\u062a\",\n",
    "    r\"[\\u0686\\u0687]\": \"\\u062c\",\n",
    "    r\"[\\u0688-\\u068b\\u068d]\": \"\\u062f\",\n",
    "    r\"[\\u068c\\u068e-\\u0690]\": \"\\u0630\",\n",
    "    r\"[\\u066b\\u0691-\\u0695]\": \"\\u0631\",\n",
    "    r\"[\\u0696-\\u0699]\": \"\\u0632\",\n",
    "    r\"[\\u069a\\u069b]\": \"\\u0633\",\n",
    "    r\"\\u069c\": \"\\u0634\",\n",
    "    r\"\\u060f\": \"\\u0639\",\n",
    "    r\"\\u06d4\": \"\\u0640\",\n",
    "    r\"[\\u06a4\\u06a5]\": \"\\u0641\",\n",
    "    r\"\\u06a8\\u06a6\": \"\\u0642\",\n",
    "    r\"[\\u063b\\u063c\\u06a9-\\u06b4]\": \"\\u0643\",\n",
    "    r\"[\\u06b5-\\u06b8]\": \"\\u0644\",\n",
    "    r\"\\u06fe\": \"\\u0645\",\n",
    "    r\"[\\u06b9-\\u06bd]\": \"\\u0646\",\n",
    "    r\"[\\u0629\\u06be\\u06c0-\\u06c3\\u06ff]\": \"\\u0647\",\n",
    "    r\"[\\u06c4-\\u06cb\\u06cf]\": \"\\u0648\",\n",
    "    r\"[\\u0620\\u063d-\\u063f\\u0649\\u06cc-\\u06ce\\u06d0-\\u06d2\\u06e6\\u06e7]\": \"\\u064a\",\n",
    "    r\"[\\u06d9\\ufef5\\ufef7\\ufef9]\": \"\\ufefb\",\n",
    "}\n"
   ]
  },
  {
   "cell_type": "code",
   "execution_count": 8,
   "id": "020dea3a",
   "metadata": {
    "execution": {
     "iopub.execute_input": "2022-03-12T14:06:01.911608Z",
     "iopub.status.busy": "2022-03-12T14:06:01.910995Z",
     "iopub.status.idle": "2022-03-12T14:06:02.763874Z",
     "shell.execute_reply": "2022-03-12T14:06:02.763282Z",
     "shell.execute_reply.started": "2022-03-12T13:45:05.856081Z"
    },
    "papermill": {
     "duration": 0.90834,
     "end_time": "2022-03-12T14:06:02.764010",
     "exception": false,
     "start_time": "2022-03-12T14:06:01.855670",
     "status": "completed"
    },
    "tags": []
   },
   "outputs": [],
   "source": [
    "def regex_substitute(\n",
    "    series: Union[list, np.ndarray, pd.Series], regex_holder_dict: dict\n",
    ") -> pd.Series:\n",
    "    \"\"\"given an array-like, & a dictionary of RegExp:`placeholder`, the series\n",
    "    is processed to replace each RegExp with the corresponding `placeholder`\n",
    "\n",
    "    Parameters:\n",
    "    -----------\n",
    "\n",
    "    Returns:\n",
    "    --------\n",
    "\n",
    "    Raises:\n",
    "    -------\n",
    "\n",
    "    TODO complete the pydoc\n",
    "    \"\"\"\n",
    "    if not isinstance(series, pd.Series):\n",
    "        try:\n",
    "            series = pd.Series(series, dtype=str)\n",
    "        except:\n",
    "            raise ValueError(\"Invalid series: not array-like\")\n",
    "    for regex, holder in regex_holder_dict.items():\n",
    "        series = series.apply(lambda s: re.sub(regex, holder, s))\n",
    "    return series\n",
    "\n",
    "\n",
    "def preprocess(data: Union[list, np.ndarray, pd.Series, pd.DataFrame]) -> pd.Series:\n",
    "    \"\"\"The actual preprocessing subroutine\n",
    "\n",
    "    TODO complete pydoc\n",
    "\n",
    "    \"\"\"\n",
    "    if isinstance(data, pd.DataFrame):\n",
    "        if \"tweets\" not in data.columns:\n",
    "            raise Exception(\"FIXME write a proper exception\")\n",
    "        # extract data as series\n",
    "        data = data[\"tweets\"]\n",
    "    elif isinstance(data, list) or isinstance(data, np.ndarray):\n",
    "        data = pd.Series(data, dtype=str)\n",
    "    elif not isinstance(data, pd.Series):\n",
    "        raise Exception(\"FIXME write a proper exception\")\n",
    "\n",
    "    # removing twitter specific features\n",
    "    regex_twitter = {\n",
    "        REGEX_HANDLER: r\" \",\n",
    "        REGEX_HYPERLINK: r\" \",\n",
    "        r\"\\d+\": r\" \",\n",
    "        REGEX_HASHTAG: r\"\\1\",\n",
    "        r\"_\": r\" \",\n",
    "    }\n",
    "    data = regex_substitute(data, regex_twitter)\n",
    "\n",
    "    #     normalising the characters\n",
    "    data = regex_substitute(data, REGEX_IRA2ARA)\n",
    "\n",
    "    # removing any non-useful tokens\n",
    "    extra_tokens = {\n",
    "        REGEX_NOT_ARA: r\" \",\n",
    "        r\"(?u)[\\d\\s_]+\": r\" \",\n",
    "        REGEX_CHAR_3_PLUS: r\"\\1\\1\",\n",
    "    }\n",
    "    ara_ira = regex_substitute(data, extra_tokens)\n",
    "    data = ara_ira.str.strip()\n",
    "\n",
    "    # FIXME could use lemmatisation?\n",
    "\n",
    "    return data\n",
    "\n",
    "\n",
    "def init_preprocess(\n",
    "    test_size: float = 0.1,\n",
    ") -> Tuple[pd.Series, pd.Series, pd.Series, pd.Series]:\n",
    "    \"\"\"initialisation point for the training of the model\n",
    "\n",
    "    TODO complete the pydoc\n",
    "    \"\"\"\n",
    "    full_df = load_full_dataset()\n",
    "    # keep a validation set aside\n",
    "    df, _ = store_validation_set(full_df)\n",
    "\n",
    "    df[\"tweets\"] = preprocess(df[\"tweets\"])\n",
    "\n",
    "    # split data\n",
    "    X = df[\"tweets\"]\n",
    "    y = df[\"dialect\"]\n",
    "    X_train, X_test, y_train, y_test = train_test_split(\n",
    "        X, y, test_size=test_size, random_state=42, stratify=y\n",
    "    )\n",
    "    del df\n",
    "\n",
    "    # TODO do more preprocess\n",
    "\n",
    "    return X_train, X_test, y_train, y_test\n",
    "\n",
    "\n",
    "def build_tokeniser(\n",
    "    corpus: Union[list, np.ndarray, pd.Series]\n",
    ") -> tf.keras.preprocessing.text.Tokenizer:\n",
    "    \"\"\"instantiate and fits a `tensorflow.keras.preprocessing.Tokenizer` object\n",
    "    on the given corpus, and returns the tokeniser\n",
    "\n",
    "    Parameters:\n",
    "    -----------\n",
    "\n",
    "    TODO complete pydoc\n",
    "    \"\"\"\n",
    "    tokeniser = tf.keras.preprocessing.text.Tokenizer()\n",
    "    _ = tokeniser.fit_on_texts(corpus)\n",
    "    return tokeniser\n",
    "\n",
    "\n",
    "def tokenise_pad_texts(\n",
    "    corpus: Union[list, np.ndarray, pd.Series],\n",
    "    tokeniser: tf.keras.preprocessing.text.Tokenizer = None,\n",
    "    maxlen: int = MAX_LENGTH,\n",
    "    padding: str = \"post\",\n",
    "):\n",
    "    \"\"\"tokenises the documents in `corpus`, then pads the documents to the\n",
    "    `maxlen` length\n",
    "\n",
    "    Parameters:\n",
    "    -----------\n",
    "\n",
    "    TODO complete pydoc\n",
    "    \"\"\"\n",
    "    if not tokeniser:\n",
    "        tokeniser = build_tokeniser(corpus)\n",
    "    elif not isinstance(tokeniser, tf.keras.preprocessing.text.Tokenizer):\n",
    "        raise ValueError(\n",
    "            \"The tokeniser must be of type tensorflow.keras.preprocessing.Tokenizer\"\n",
    "        )\n",
    "    tokens = tokeniser.texts_to_sequences(corpus)\n",
    "    padded_tokens = tf.keras.preprocessing.sequence.pad_sequences(\n",
    "        tokens, maxlen=maxlen, padding=padding\n",
    "    )\n",
    "    return padded_tokens\n",
    "\n",
    "\n",
    "def onehot_encode_labels(labels: Union[list, np.ndarray, pd.Series]) -> np.ndarray:\n",
    "    \"\"\"performs one hot encoding on labels\n",
    "\n",
    "    Parameters:\n",
    "    -----------\n",
    "\n",
    "    TODO complete pydoc\n",
    "    \"\"\"\n",
    "    labels = pd.Series(labels, dtype=\"category\")\n",
    "    return tf.keras.utils.to_categorical(labels.cat.codes)\n"
   ]
  },
  {
   "cell_type": "code",
   "execution_count": 9,
   "id": "1dac02ea",
   "metadata": {
    "execution": {
     "iopub.execute_input": "2022-03-12T14:06:02.841348Z",
     "iopub.status.busy": "2022-03-12T14:06:02.839727Z",
     "iopub.status.idle": "2022-03-12T14:06:02.841961Z",
     "shell.execute_reply": "2022-03-12T14:06:02.842357Z",
     "shell.execute_reply.started": "2022-03-12T13:45:06.173702Z"
    },
    "papermill": {
     "duration": 0.04366,
     "end_time": "2022-03-12T14:06:02.842521",
     "exception": false,
     "start_time": "2022-03-12T14:06:02.798861",
     "status": "completed"
    },
    "tags": []
   },
   "outputs": [],
   "source": [
    "# segmenter = FarasaSegmenter()\n",
    "# v_segment = np.vectorize(segmenter.segment)\n",
    "# step = 1024\n",
    "# tweets = df['tweets'].values\n",
    "# lem_text = df['tweets'].apply(segmenter.segment)\n",
    "# lem_text.sample(1)\n",
    "# for idx in np.arange(0, df.shape[0], step):\n",
    "#     tweets[idx:idx+step] = v_segment(tweets[idx:idx+step])\n",
    "#     print(idx)\n"
   ]
  },
  {
   "cell_type": "code",
   "execution_count": 10,
   "id": "e9d7ec9f",
   "metadata": {
    "execution": {
     "iopub.execute_input": "2022-03-12T14:06:02.955857Z",
     "iopub.status.busy": "2022-03-12T14:06:02.955278Z",
     "iopub.status.idle": "2022-03-12T14:06:03.265523Z",
     "shell.execute_reply": "2022-03-12T14:06:03.265903Z",
     "shell.execute_reply.started": "2022-03-12T13:45:06.180237Z"
    },
    "papermill": {
     "duration": 0.388781,
     "end_time": "2022-03-12T14:06:03.266059",
     "exception": false,
     "start_time": "2022-03-12T14:06:02.877278",
     "status": "completed"
    },
    "tags": []
   },
   "outputs": [
    {
     "data": {
      "text/plain": [
       "[]"
      ]
     },
     "execution_count": 10,
     "metadata": {},
     "output_type": "execute_result"
    },
    {
     "data": {
      "image/png": "[encoded data removed]",
      "text/plain": [
       "<Figure size 1152x648 with 1 Axes>"
      ]
     },
     "metadata": {
      "needs_background": "light"
     },
     "output_type": "display_data"
    }
   ],
   "source": [
    "df['dialect'].value_counts().plot.barh()\n",
    "plt.plot()\n"
   ]
  },
  {
   "cell_type": "code",
   "execution_count": 11,
   "id": "794e4a85",
   "metadata": {
    "execution": {
     "iopub.execute_input": "2022-03-12T14:06:03.342395Z",
     "iopub.status.busy": "2022-03-12T14:06:03.341599Z",
     "iopub.status.idle": "2022-03-12T14:06:03.359955Z",
     "shell.execute_reply": "2022-03-12T14:06:03.359479Z",
     "shell.execute_reply.started": "2022-03-12T13:45:06.520651Z"
    },
    "papermill": {
     "duration": 0.058275,
     "end_time": "2022-03-12T14:06:03.360064",
     "exception": false,
     "start_time": "2022-03-12T14:06:03.301789",
     "status": "completed"
    },
    "tags": []
   },
   "outputs": [],
   "source": [
    "df_cpy = df.copy()\n",
    "regex_twitter = {\n",
    "    REGEX_HANDLER: r\"<HNDL/>\",\n",
    "    REGEX_HYPERLINK: r\"<URL/>\",\n",
    "    r\"\\d+\": r\"<NUM/>\",\n",
    "}\n"
   ]
  },
  {
   "cell_type": "code",
   "execution_count": 12,
   "id": "d9efb118",
   "metadata": {
    "execution": {
     "iopub.execute_input": "2022-03-12T14:06:03.436184Z",
     "iopub.status.busy": "2022-03-12T14:06:03.435381Z",
     "iopub.status.idle": "2022-03-12T14:06:06.868511Z",
     "shell.execute_reply": "2022-03-12T14:06:06.867613Z",
     "shell.execute_reply.started": "2022-03-12T13:45:06.548183Z"
    },
    "papermill": {
     "duration": 3.472599,
     "end_time": "2022-03-12T14:06:06.868655",
     "exception": false,
     "start_time": "2022-03-12T14:06:03.396056",
     "status": "completed"
    },
    "tags": []
   },
   "outputs": [],
   "source": [
    "df_cpy[\"tweets\"] = regex_substitute(df_cpy[\"tweets\"], regex_twitter)\n"
   ]
  },
  {
   "cell_type": "code",
   "execution_count": 13,
   "id": "22eff54c",
   "metadata": {
    "execution": {
     "iopub.execute_input": "2022-03-12T14:06:06.946697Z",
     "iopub.status.busy": "2022-03-12T14:06:06.945799Z",
     "iopub.status.idle": "2022-03-12T14:06:11.590765Z",
     "shell.execute_reply": "2022-03-12T14:06:11.591191Z",
     "shell.execute_reply.started": "2022-03-12T13:45:09.845369Z"
    },
    "papermill": {
     "duration": 4.686198,
     "end_time": "2022-03-12T14:06:11.591356",
     "exception": false,
     "start_time": "2022-03-12T14:06:06.905158",
     "status": "completed"
    },
    "tags": []
   },
   "outputs": [],
   "source": [
    "df_cpy[\"len\"] = df[\"tweets\"].apply(len)\n",
    "df_cpy[\"word_count\"] = (\n",
    "    df[\"tweets\"].apply(lambda s: re.findall(r\"(?u)\\b\\w\\w+\\b\", s)).apply(len)\n",
    ")\n"
   ]
  },
  {
   "cell_type": "code",
   "execution_count": 14,
   "id": "c6753113",
   "metadata": {
    "execution": {
     "iopub.execute_input": "2022-03-12T14:06:11.669159Z",
     "iopub.status.busy": "2022-03-12T14:06:11.668388Z",
     "iopub.status.idle": "2022-03-12T14:06:12.479782Z",
     "shell.execute_reply": "2022-03-12T14:06:12.480292Z",
     "shell.execute_reply.started": "2022-03-12T13:45:15.217527Z"
    },
    "papermill": {
     "duration": 0.852612,
     "end_time": "2022-03-12T14:06:12.480467",
     "exception": false,
     "start_time": "2022-03-12T14:06:11.627855",
     "status": "completed"
    },
    "tags": []
   },
   "outputs": [
    {
     "data": {
      "image/png": "[encoded data removed]",
      "text/plain": [
       "<Figure size 1152x648 with 1 Axes>"
      ]
     },
     "metadata": {
      "needs_background": "light"
     },
     "output_type": "display_data"
    }
   ],
   "source": [
    "df_cpy[[\"len\", \"dialect\"]].boxplot(by=\"dialect\", grid=False)\n",
    "plt.show()\n"
   ]
  },
  {
   "cell_type": "code",
   "execution_count": 15,
   "id": "bc8d0339",
   "metadata": {
    "execution": {
     "iopub.execute_input": "2022-03-12T14:06:12.565954Z",
     "iopub.status.busy": "2022-03-12T14:06:12.565167Z",
     "iopub.status.idle": "2022-03-12T14:06:13.355630Z",
     "shell.execute_reply": "2022-03-12T14:06:13.356068Z",
     "shell.execute_reply.started": "2022-03-12T13:45:16.061612Z"
    },
    "papermill": {
     "duration": 0.834277,
     "end_time": "2022-03-12T14:06:13.356218",
     "exception": false,
     "start_time": "2022-03-12T14:06:12.521941",
     "status": "completed"
    },
    "tags": []
   },
   "outputs": [
    {
     "data": {
      "image/png": "[encoded data removed]",
      "text/plain": [
       "<Figure size 1152x648 with 1 Axes>"
      ]
     },
     "metadata": {
      "needs_background": "light"
     },
     "output_type": "display_data"
    }
   ],
   "source": [
    "df_cpy[[\"word_count\", \"dialect\"]].boxplot(by=\"dialect\", grid=False)\n",
    "plt.show()\n"
   ]
  },
  {
   "cell_type": "code",
   "execution_count": 16,
   "id": "1d69b2f0",
   "metadata": {
    "execution": {
     "iopub.execute_input": "2022-03-12T14:06:13.462870Z",
     "iopub.status.busy": "2022-03-12T14:06:13.461931Z",
     "iopub.status.idle": "2022-03-12T14:06:13.463781Z",
     "shell.execute_reply": "2022-03-12T14:06:13.464286Z",
     "shell.execute_reply.started": "2022-03-12T13:45:16.856883Z"
    },
    "papermill": {
     "duration": 0.069558,
     "end_time": "2022-03-12T14:06:13.464427",
     "exception": false,
     "start_time": "2022-03-12T14:06:13.394869",
     "status": "completed"
    },
    "tags": []
   },
   "outputs": [],
   "source": [
    "# NOTE: the notebook might allocate too much memory\n",
    "del df_cpy\n"
   ]
  },
  {
   "cell_type": "code",
   "execution_count": 17,
   "id": "8353b80b",
   "metadata": {
    "execution": {
     "iopub.execute_input": "2022-03-12T14:06:13.543885Z",
     "iopub.status.busy": "2022-03-12T14:06:13.543356Z",
     "iopub.status.idle": "2022-03-12T14:06:58.048823Z",
     "shell.execute_reply": "2022-03-12T14:06:58.047926Z",
     "shell.execute_reply.started": "2022-03-12T13:45:16.892578Z"
    },
    "papermill": {
     "duration": 44.546732,
     "end_time": "2022-03-12T14:06:58.048975",
     "exception": false,
     "start_time": "2022-03-12T14:06:13.502243",
     "status": "completed"
    },
    "tags": []
   },
   "outputs": [],
   "source": [
    "X_train, X_test, y_train, y_test = init_preprocess()\n"
   ]
  },
  {
   "cell_type": "markdown",
   "id": "5eacf64e",
   "metadata": {
    "papermill": {
     "duration": 0.039898,
     "end_time": "2022-03-12T14:06:58.129133",
     "exception": false,
     "start_time": "2022-03-12T14:06:58.089235",
     "status": "completed"
    },
    "tags": []
   },
   "source": [
    "--- \n",
    "\n",
    "## Model training\n"
   ]
  },
  {
   "cell_type": "code",
   "execution_count": 18,
   "id": "0b287b29",
   "metadata": {
    "execution": {
     "iopub.execute_input": "2022-03-12T14:06:58.215714Z",
     "iopub.status.busy": "2022-03-12T14:06:58.214939Z",
     "iopub.status.idle": "2022-03-12T14:06:58.216901Z",
     "shell.execute_reply": "2022-03-12T14:06:58.217575Z",
     "shell.execute_reply.started": "2022-03-12T13:46:02.064528Z"
    },
    "papermill": {
     "duration": 0.049337,
     "end_time": "2022-03-12T14:06:58.217708",
     "exception": false,
     "start_time": "2022-03-12T14:06:58.168371",
     "status": "completed"
    },
    "tags": []
   },
   "outputs": [],
   "source": [
    "from itertools import chain\n",
    "\n",
    "\n",
    "def tokeniser(string: str) -> list:\n",
    "    \"\"\"https://stackoverflow.com/questions/952914/how-to-make-a-flat-list-out-of-a-list-of-lists\n",
    "    https://stackoverflow.com/questions/5466451/how-can-i-print-literal-curly-brace-characters-in-a-string-and-also-use-format\n",
    "    \n",
    "    Parameters:\n",
    "    -----------\n",
    "\n",
    "    Returns:\n",
    "    --------\n",
    "\n",
    "    TODO complete pydoc\n",
    "    \"\"\"\n",
    "    regex_c37 = r\"(?u)(?=(\\w{3}))\" + \"\".join(\n",
    "        [f\"(?=(\\\\w{{,{i}}}))\" for i in range(4, 8)]\n",
    "    )\n",
    "    regex_w26 = r\"(?u)(?=(?!\\W)(?=((?:\\W*\\b\\w+\\b){2}))\" + \"\".join(\n",
    "        [f\"(?!\\\\W)(?=((?:\\\\W*\\\\b\\w+\\\\b){{,{i}}}))\" for i in range(3, 7)]\n",
    "    )\n",
    "    token_c37 = RegexpTokenizer(regex_c37).tokenize(string)\n",
    "    token_w26 = RegexpTokenizer(regex_w26).tokenize(string)\n",
    "    tokens = set(chain(*(token_c37 + token_w26)))\n",
    "    return sorted(tokens)\n",
    "\n",
    "\n",
    "def build_naive_bayes_model(*args, **kwargs):\n",
    "    \"\"\"builds and returns an sklearn pipeline\n",
    "\n",
    "\n",
    "    TODO complete the pydoc\n",
    "    \"\"\"\n",
    "    if \"stop_words\" not in kwargs:\n",
    "        kwargs[\"stop_words\"] = STOP_WORDS_BASIC\n",
    "    model = MultinomialNB(alpha=kwargs.get(\"alpha\", 1))\n",
    "    if \"alpha\" in kwargs:\n",
    "        del kwargs[\"alpha\"]\n",
    "    vectoriser = CountVectorizer(**kwargs)\n",
    "\n",
    "    return make_pipeline(vectoriser, model)\n"
   ]
  },
  {
   "cell_type": "code",
   "execution_count": 19,
   "id": "b9bbc7f6",
   "metadata": {
    "execution": {
     "iopub.execute_input": "2022-03-12T14:06:58.340967Z",
     "iopub.status.busy": "2022-03-12T14:06:58.305070Z",
     "iopub.status.idle": "2022-03-12T14:07:10.768012Z",
     "shell.execute_reply": "2022-03-12T14:07:10.768740Z",
     "shell.execute_reply.started": "2022-03-12T13:46:02.077333Z"
    },
    "papermill": {
     "duration": 12.513783,
     "end_time": "2022-03-12T14:07:10.768951",
     "exception": false,
     "start_time": "2022-03-12T14:06:58.255168",
     "status": "completed"
    },
    "tags": []
   },
   "outputs": [
    {
     "name": "stdout",
     "output_type": "stream",
     "text": [
      "              precision    recall  f1-score   support\n",
      "\n",
      "          DZ       0.82      0.33      0.47      1295\n",
      "          EG       0.50      0.95      0.66      4611\n",
      "          BH       0.46      0.14      0.22      2103\n",
      "          LY       0.65      0.67      0.66      2920\n",
      "          AE       0.52      0.29      0.38      2104\n",
      "          KW       0.32      0.77      0.46      3369\n",
      "          JO       0.57      0.14      0.23      2234\n",
      "          IQ       0.93      0.28      0.43      1240\n",
      "          YE       0.79      0.01      0.03       794\n",
      "          OM       0.82      0.09      0.16      1529\n",
      "          LB       0.69      0.63      0.66      2209\n",
      "          SY       0.92      0.08      0.15      1299\n",
      "          QA       0.42      0.53      0.47      2486\n",
      "          PL       0.39      0.66      0.49      3499\n",
      "          SA       0.50      0.30      0.37      2146\n",
      "          TN       0.98      0.14      0.25       740\n",
      "          MA       0.94      0.42      0.58       923\n",
      "          SD       0.95      0.28      0.43      1155\n",
      "\n",
      "    accuracy                           0.48     36656\n",
      "   macro avg       0.68      0.37      0.39     36656\n",
      "weighted avg       0.59      0.48      0.44     36656\n",
      "\n"
     ]
    }
   ],
   "source": [
    "# building a benchmark model\n",
    "bench = build_naive_bayes_model(stop_words=None)\n",
    "\n",
    "_ = bench.fit(X_train, y_train)\n",
    "y_pred = bench.predict(X_test)\n",
    "clf_report = classification_report(y_test, y_pred, labels=y_train.unique())\n",
    "print(clf_report)\n",
    "\n",
    "# TODO train better models\n"
   ]
  },
  {
   "cell_type": "code",
   "execution_count": 20,
   "id": "7150f05c",
   "metadata": {
    "execution": {
     "iopub.execute_input": "2022-03-12T14:07:10.848519Z",
     "iopub.status.busy": "2022-03-12T14:07:10.847694Z",
     "iopub.status.idle": "2022-03-12T14:07:11.226567Z",
     "shell.execute_reply": "2022-03-12T14:07:11.226007Z",
     "shell.execute_reply.started": "2022-03-12T13:46:15.114318Z"
    },
    "papermill": {
     "duration": 0.419319,
     "end_time": "2022-03-12T14:07:11.226725",
     "exception": false,
     "start_time": "2022-03-12T14:07:10.807406",
     "status": "completed"
    },
    "tags": []
   },
   "outputs": [],
   "source": [
    "# NOTE notebook might allocate too much memory\n",
    "pickle.dump(bench, open(\"benchmark.pkl\", \"wb\"))\n",
    "del bench\n"
   ]
  },
  {
   "cell_type": "code",
   "execution_count": 21,
   "id": "154eaf2c",
   "metadata": {
    "execution": {
     "iopub.execute_input": "2022-03-12T14:07:11.310633Z",
     "iopub.status.busy": "2022-03-12T14:07:11.309720Z",
     "iopub.status.idle": "2022-03-12T14:07:11.311419Z",
     "shell.execute_reply": "2022-03-12T14:07:11.311956Z",
     "shell.execute_reply.started": "2022-03-12T13:46:15.631531Z"
    },
    "papermill": {
     "duration": 0.046153,
     "end_time": "2022-03-12T14:07:11.312092",
     "exception": false,
     "start_time": "2022-03-12T14:07:11.265939",
     "status": "completed"
    },
    "tags": []
   },
   "outputs": [],
   "source": [
    "def analyser(*args):\n",
    "    \"\"\"to allow BoW to be built using a combination of character &\n",
    "    word n-grams. using `lambda` expression makes the model non-pickle friendly\n",
    "\n",
    "    TODO complete pydoc\n",
    "    \"\"\"\n",
    "    return args\n",
    "\n",
    "\n",
    "combined = build_naive_bayes_model(\n",
    "    alpha=0.1, stop_words=STOP_WORDS_BASIC, analyzer=analyser, tokenizer=tokeniser\n",
    ")\n"
   ]
  },
  {
   "cell_type": "code",
   "execution_count": 22,
   "id": "ba7e32cd",
   "metadata": {
    "execution": {
     "iopub.execute_input": "2022-03-12T14:07:11.396222Z",
     "iopub.status.busy": "2022-03-12T14:07:11.395298Z",
     "iopub.status.idle": "2022-03-12T14:07:11.397888Z",
     "shell.execute_reply": "2022-03-12T14:07:11.397427Z",
     "shell.execute_reply.started": "2022-03-12T13:46:15.642165Z"
    },
    "papermill": {
     "duration": 0.046971,
     "end_time": "2022-03-12T14:07:11.398017",
     "exception": false,
     "start_time": "2022-03-12T14:07:11.351046",
     "status": "completed"
    },
    "tags": []
   },
   "outputs": [],
   "source": [
    "# NOTE notebook might allocate too much memory\n",
    "pickle.dump(combined, open(\"combined.pkl\", \"wb\"))\n",
    "del combined\n"
   ]
  },
  {
   "cell_type": "code",
   "execution_count": 23,
   "id": "7b4b2954",
   "metadata": {
    "execution": {
     "iopub.execute_input": "2022-03-12T14:07:11.481079Z",
     "iopub.status.busy": "2022-03-12T14:07:11.480189Z",
     "iopub.status.idle": "2022-03-12T14:07:11.481919Z",
     "shell.execute_reply": "2022-03-12T14:07:11.482409Z",
     "shell.execute_reply.started": "2022-03-12T13:46:15.650328Z"
    },
    "papermill": {
     "duration": 0.045456,
     "end_time": "2022-03-12T14:07:11.482571",
     "exception": false,
     "start_time": "2022-03-12T14:07:11.437115",
     "status": "completed"
    },
    "tags": []
   },
   "outputs": [],
   "source": [
    "model_w26 = build_naive_bayes_model(stop_words=STOP_WORDS_BASIC, ngram_range=(2, 6))\n"
   ]
  },
  {
   "cell_type": "code",
   "execution_count": 24,
   "id": "92eea721",
   "metadata": {
    "execution": {
     "iopub.execute_input": "2022-03-12T14:07:11.564699Z",
     "iopub.status.busy": "2022-03-12T14:07:11.563981Z",
     "iopub.status.idle": "2022-03-12T14:07:11.567069Z",
     "shell.execute_reply": "2022-03-12T14:07:11.566653Z",
     "shell.execute_reply.started": "2022-03-12T13:46:15.661877Z"
    },
    "papermill": {
     "duration": 0.045785,
     "end_time": "2022-03-12T14:07:11.567183",
     "exception": false,
     "start_time": "2022-03-12T14:07:11.521398",
     "status": "completed"
    },
    "tags": []
   },
   "outputs": [],
   "source": [
    "# NOTE notebook might allocate too much memory\n",
    "pickle.dump(model_w26, open(\"model_w26.pkl\", \"wb\"))\n",
    "del model_w26\n"
   ]
  },
  {
   "cell_type": "code",
   "execution_count": 25,
   "id": "f72044f1",
   "metadata": {
    "execution": {
     "iopub.execute_input": "2022-03-12T14:07:11.649283Z",
     "iopub.status.busy": "2022-03-12T14:07:11.648405Z",
     "iopub.status.idle": "2022-03-12T14:07:11.650171Z",
     "shell.execute_reply": "2022-03-12T14:07:11.650632Z",
     "shell.execute_reply.started": "2022-03-12T13:46:15.668931Z"
    },
    "papermill": {
     "duration": 0.044947,
     "end_time": "2022-03-12T14:07:11.650767",
     "exception": false,
     "start_time": "2022-03-12T14:07:11.605820",
     "status": "completed"
    },
    "tags": []
   },
   "outputs": [],
   "source": [
    "model_c37 = build_naive_bayes_model(\n",
    "    alpha=0.1, stop_words=STOP_WORDS_BASIC, analyzer=\"char\", ngram_range=(3, 7)\n",
    ")\n"
   ]
  },
  {
   "cell_type": "code",
   "execution_count": 26,
   "id": "1763e046",
   "metadata": {
    "execution": {
     "iopub.execute_input": "2022-03-12T14:07:11.732818Z",
     "iopub.status.busy": "2022-03-12T14:07:11.732224Z",
     "iopub.status.idle": "2022-03-12T14:07:11.735149Z",
     "shell.execute_reply": "2022-03-12T14:07:11.734722Z",
     "shell.execute_reply.started": "2022-03-12T13:46:15.678024Z"
    },
    "papermill": {
     "duration": 0.046189,
     "end_time": "2022-03-12T14:07:11.735254",
     "exception": false,
     "start_time": "2022-03-12T14:07:11.689065",
     "status": "completed"
    },
    "tags": []
   },
   "outputs": [],
   "source": [
    "# NOTE notebook might allocate too much memory\n",
    "pickle.dump(model_c37, open(\"model_c37.pkl\", \"wb\"))\n",
    "del model_c37\n"
   ]
  },
  {
   "cell_type": "markdown",
   "id": "f1b3b049",
   "metadata": {
    "papermill": {
     "duration": 0.038041,
     "end_time": "2022-03-12T14:07:11.811609",
     "exception": false,
     "start_time": "2022-03-12T14:07:11.773568",
     "status": "completed"
    },
    "tags": []
   },
   "source": [
    "---\n"
   ]
  },
  {
   "cell_type": "code",
   "execution_count": 27,
   "id": "fea15d4f",
   "metadata": {
    "execution": {
     "iopub.execute_input": "2022-03-12T14:07:11.895038Z",
     "iopub.status.busy": "2022-03-12T14:07:11.894186Z",
     "iopub.status.idle": "2022-03-12T14:07:11.929665Z",
     "shell.execute_reply": "2022-03-12T14:07:11.929202Z",
     "shell.execute_reply.started": "2022-03-12T13:46:15.686885Z"
    },
    "papermill": {
     "duration": 0.080013,
     "end_time": "2022-03-12T14:07:11.929781",
     "exception": false,
     "start_time": "2022-03-12T14:07:11.849768",
     "status": "completed"
    },
    "tags": []
   },
   "outputs": [],
   "source": [
    "scoring = [\n",
    "    \"neg_log_loss\",\n",
    "    \"f1_micro\",\n",
    "]  # , \"f1_macro\", \"precision_micro\", \"recall_micro\"]\n",
    "X = pd.concat([X_train, X_test])\n",
    "y = pd.concat([y_train, y_test])\n",
    "labels = y.unique()\n"
   ]
  },
  {
   "cell_type": "code",
   "execution_count": 28,
   "id": "7985bd0d",
   "metadata": {
    "execution": {
     "iopub.execute_input": "2022-03-12T14:07:12.032884Z",
     "iopub.status.busy": "2022-03-12T14:07:12.032000Z",
     "iopub.status.idle": "2022-03-12T14:07:12.033464Z",
     "shell.execute_reply": "2022-03-12T14:07:12.033884Z"
    },
    "papermill": {
     "duration": 0.06617,
     "end_time": "2022-03-12T14:07:12.034021",
     "exception": false,
     "start_time": "2022-03-12T14:07:11.967851",
     "status": "completed"
    },
    "tags": []
   },
   "outputs": [],
   "source": [
    "# # models = [\"combined\", \"model_c37\", \"model_w26\"]\n",
    "# result = {}\n",
    "# for model in models:\n",
    "#     mod = pickle.load(open(f\"{model}.pkl\", \"rb\"))\n",
    "#     result[model] = cross_validate(mod, X, y, scoring=scoring)\n",
    "#     del mod\n",
    "\n"
   ]
  },
  {
   "cell_type": "code",
   "execution_count": 29,
   "id": "70e0a3d2",
   "metadata": {
    "execution": {
     "iopub.execute_input": "2022-03-12T14:07:12.181220Z",
     "iopub.status.busy": "2022-03-12T14:07:12.180365Z",
     "iopub.status.idle": "2022-03-12T14:07:12.181897Z",
     "shell.execute_reply": "2022-03-12T14:07:12.182388Z"
    },
    "papermill": {
     "duration": 0.07973,
     "end_time": "2022-03-12T14:07:12.182646",
     "exception": false,
     "start_time": "2022-03-12T14:07:12.102916",
     "status": "completed"
    },
    "tags": []
   },
   "outputs": [],
   "source": [
    "# for model in result:\n",
    "#     for key, val in result[model].items():\n",
    "#         result[model][key] = np.mean(val)\n",
    "#     print(result[model])\n",
    "\n",
    "# f1_scores = [r['test_f1_micro'] for r in result.values()]\n",
    "# neg_log_loss = [r['test_neg_log_loss'] for r in result.values()]\n",
    "# print(models[np.argmax(f1_scores)], models[np.argmin(neg_log_loss)])\n"
   ]
  },
  {
   "cell_type": "code",
   "execution_count": 30,
   "id": "7612b1f5",
   "metadata": {
    "execution": {
     "iopub.execute_input": "2022-03-12T14:07:12.335840Z",
     "iopub.status.busy": "2022-03-12T14:07:12.335141Z",
     "iopub.status.idle": "2022-03-12T14:07:12.337261Z",
     "shell.execute_reply": "2022-03-12T14:07:12.338023Z"
    },
    "papermill": {
     "duration": 0.077526,
     "end_time": "2022-03-12T14:07:12.338206",
     "exception": false,
     "start_time": "2022-03-12T14:07:12.260680",
     "status": "completed"
    },
    "tags": []
   },
   "outputs": [],
   "source": [
    "# model = models[np.argmax(f1_scores)]\n"
   ]
  },
  {
   "cell_type": "code",
   "execution_count": 31,
   "id": "ea91f282",
   "metadata": {
    "execution": {
     "iopub.execute_input": "2022-03-12T14:07:12.478906Z",
     "iopub.status.busy": "2022-03-12T14:07:12.478201Z",
     "iopub.status.idle": "2022-03-12T14:07:12.480735Z",
     "shell.execute_reply": "2022-03-12T14:07:12.480225Z"
    },
    "papermill": {
     "duration": 0.07354,
     "end_time": "2022-03-12T14:07:12.480843",
     "exception": false,
     "start_time": "2022-03-12T14:07:12.407303",
     "status": "completed"
    },
    "tags": []
   },
   "outputs": [],
   "source": [
    "# mod = pickle.load(open(f\"{model}.pkl\", \"rb\"))\n",
    "# _ = mod.fit(X_train, y_train)\n",
    "# y_pred = mod.predict(X_test)\n",
    "# clf_report = classification_report(y_test, y_pred, labels=labels)\n",
    "# print(clf_report)\n"
   ]
  },
  {
   "cell_type": "code",
   "execution_count": 32,
   "id": "eeeae527",
   "metadata": {
    "execution": {
     "iopub.execute_input": "2022-03-12T14:07:12.602726Z",
     "iopub.status.busy": "2022-03-12T14:07:12.601984Z",
     "iopub.status.idle": "2022-03-12T14:07:12.604335Z",
     "shell.execute_reply": "2022-03-12T14:07:12.603950Z"
    },
    "papermill": {
     "duration": 0.057818,
     "end_time": "2022-03-12T14:07:12.604460",
     "exception": false,
     "start_time": "2022-03-12T14:07:12.546642",
     "status": "completed"
    },
    "tags": []
   },
   "outputs": [],
   "source": [
    "# pickle.dump(mod, open(f\"{model}.pkl\", \"wb\"))\n",
    "\n",
    "# del mod"
   ]
  },
  {
   "cell_type": "code",
   "execution_count": 33,
   "id": "a05789f0",
   "metadata": {
    "execution": {
     "iopub.execute_input": "2022-03-12T14:07:12.684781Z",
     "iopub.status.busy": "2022-03-12T14:07:12.684152Z",
     "iopub.status.idle": "2022-03-12T14:07:12.686877Z",
     "shell.execute_reply": "2022-03-12T14:07:12.686409Z"
    },
    "papermill": {
     "duration": 0.044078,
     "end_time": "2022-03-12T14:07:12.686980",
     "exception": false,
     "start_time": "2022-03-12T14:07:12.642902",
     "status": "completed"
    },
    "tags": []
   },
   "outputs": [],
   "source": [
    "# TODO TfidfVectorizer\n",
    "# TODO SVC\n"
   ]
  },
  {
   "cell_type": "markdown",
   "id": "91268e87",
   "metadata": {
    "papermill": {
     "duration": 0.03878,
     "end_time": "2022-03-12T14:07:12.764938",
     "exception": false,
     "start_time": "2022-03-12T14:07:12.726158",
     "status": "completed"
    },
    "tags": []
   },
   "source": [
    "---\n"
   ]
  },
  {
   "cell_type": "code",
   "execution_count": 34,
   "id": "5ecd1ff6",
   "metadata": {
    "execution": {
     "iopub.execute_input": "2022-03-12T14:07:12.849182Z",
     "iopub.status.busy": "2022-03-12T14:07:12.848338Z",
     "iopub.status.idle": "2022-03-12T14:07:35.090395Z",
     "shell.execute_reply": "2022-03-12T14:07:35.089823Z"
    },
    "papermill": {
     "duration": 22.28659,
     "end_time": "2022-03-12T14:07:35.090573",
     "exception": false,
     "start_time": "2022-03-12T14:07:12.803983",
     "status": "completed"
    },
    "tags": []
   },
   "outputs": [],
   "source": [
    "tknsr = build_tokeniser(pd.concat([X_train, X_test]).values)\n",
    "X_train_padded = tokenise_pad_texts(X_train, tknsr)\n",
    "X_test_padded = tokenise_pad_texts(X_test, tknsr)\n",
    "\n",
    "y1h = onehot_encode_labels(pd.concat([y_train, y_test]))\n",
    "y_train1h = y1h[:y_train.shape[0]]\n",
    "y_test1h = y1h[y_train.shape[0]:]\n"
   ]
  },
  {
   "cell_type": "code",
   "execution_count": 35,
   "id": "385d2842",
   "metadata": {
    "execution": {
     "iopub.execute_input": "2022-03-12T14:07:35.219172Z",
     "iopub.status.busy": "2022-03-12T14:07:35.209717Z",
     "iopub.status.idle": "2022-03-12T14:07:38.108504Z",
     "shell.execute_reply": "2022-03-12T14:07:38.107610Z"
    },
    "papermill": {
     "duration": 2.97607,
     "end_time": "2022-03-12T14:07:38.108653",
     "exception": false,
     "start_time": "2022-03-12T14:07:35.132583",
     "status": "completed"
    },
    "tags": []
   },
   "outputs": [
    {
     "name": "stderr",
     "output_type": "stream",
     "text": [
      "2022-03-12 14:07:35.320780: I tensorflow/stream_executor/cuda/cuda_gpu_executor.cc:937] successful NUMA node read from SysFS had negative value (-1), but there must be at least one NUMA node, so returning NUMA node zero\n",
      "2022-03-12 14:07:35.418814: I tensorflow/stream_executor/cuda/cuda_gpu_executor.cc:937] successful NUMA node read from SysFS had negative value (-1), but there must be at least one NUMA node, so returning NUMA node zero\n",
      "2022-03-12 14:07:35.419859: I tensorflow/stream_executor/cuda/cuda_gpu_executor.cc:937] successful NUMA node read from SysFS had negative value (-1), but there must be at least one NUMA node, so returning NUMA node zero\n",
      "2022-03-12 14:07:35.422057: I tensorflow/core/platform/cpu_feature_guard.cc:142] This TensorFlow binary is optimized with oneAPI Deep Neural Network Library (oneDNN) to use the following CPU instructions in performance-critical operations:  AVX2 AVX512F FMA\n",
      "To enable them in other operations, rebuild TensorFlow with the appropriate compiler flags.\n",
      "2022-03-12 14:07:35.424840: I tensorflow/stream_executor/cuda/cuda_gpu_executor.cc:937] successful NUMA node read from SysFS had negative value (-1), but there must be at least one NUMA node, so returning NUMA node zero\n",
      "2022-03-12 14:07:35.425900: I tensorflow/stream_executor/cuda/cuda_gpu_executor.cc:937] successful NUMA node read from SysFS had negative value (-1), but there must be at least one NUMA node, so returning NUMA node zero\n",
      "2022-03-12 14:07:35.426875: I tensorflow/stream_executor/cuda/cuda_gpu_executor.cc:937] successful NUMA node read from SysFS had negative value (-1), but there must be at least one NUMA node, so returning NUMA node zero\n",
      "2022-03-12 14:07:37.324740: I tensorflow/stream_executor/cuda/cuda_gpu_executor.cc:937] successful NUMA node read from SysFS had negative value (-1), but there must be at least one NUMA node, so returning NUMA node zero\n",
      "2022-03-12 14:07:37.325579: I tensorflow/stream_executor/cuda/cuda_gpu_executor.cc:937] successful NUMA node read from SysFS had negative value (-1), but there must be at least one NUMA node, so returning NUMA node zero\n",
      "2022-03-12 14:07:37.326238: I tensorflow/stream_executor/cuda/cuda_gpu_executor.cc:937] successful NUMA node read from SysFS had negative value (-1), but there must be at least one NUMA node, so returning NUMA node zero\n",
      "2022-03-12 14:07:37.326815: I tensorflow/core/common_runtime/gpu/gpu_device.cc:1510] Created device /job:localhost/replica:0/task:0/device:GPU:0 with 15403 MB memory:  -> device: 0, name: Tesla P100-PCIE-16GB, pci bus id: 0000:00:04.0, compute capability: 6.0\n"
     ]
    }
   ],
   "source": [
    "model = tf.keras.models.Sequential(\n",
    "    layers=[\n",
    "        tf.keras.layers.Embedding(\n",
    "            len(tknsr.word_counts) + 1,\n",
    "            128,\n",
    "            embeddings_initializer=tf.keras.initializers.RandomUniform(),\n",
    "            input_length=MAX_LENGTH,\n",
    "        ),\n",
    "        tf.keras.layers.Bidirectional(tf.keras.layers.LSTM(64, dropout=0.25)),\n",
    "        tf.keras.layers.Dropout(0.5),\n",
    "        tf.keras.layers.Dense(64, activation=\"relu\"),\n",
    "        tf.keras.layers.Dense(y_train1h.shape[1], activation=\"softmax\"),\n",
    "    ],\n",
    "    name=\"deep_classifier\",\n",
    ")\n",
    "\n",
    "model.compile(\"adam\", \"categorical_crossentropy\", metrics=[\"categorical_accuracy\"])\n"
   ]
  },
  {
   "cell_type": "code",
   "execution_count": 36,
   "id": "e86483f7",
   "metadata": {
    "execution": {
     "iopub.execute_input": "2022-03-12T14:07:38.194479Z",
     "iopub.status.busy": "2022-03-12T14:07:38.193687Z",
     "iopub.status.idle": "2022-03-12T14:40:08.793818Z",
     "shell.execute_reply": "2022-03-12T14:40:08.794433Z"
    },
    "papermill": {
     "duration": 1950.64468,
     "end_time": "2022-03-12T14:40:08.794626",
     "exception": false,
     "start_time": "2022-03-12T14:07:38.149946",
     "status": "completed"
    },
    "tags": []
   },
   "outputs": [
    {
     "name": "stderr",
     "output_type": "stream",
     "text": [
      "2022-03-12 14:07:38.195284: W tensorflow/core/framework/cpu_allocator_impl.cc:80] Allocation of 1351274496 exceeds 10% of free system memory.\n",
      "2022-03-12 14:07:39.249590: I tensorflow/compiler/mlir/mlir_graph_optimization_pass.cc:185] None of the MLIR Optimization Passes are enabled (registered 2)\n"
     ]
    },
    {
     "name": "stdout",
     "output_type": "stream",
     "text": [
      "Epoch 1/2\n"
     ]
    },
    {
     "name": "stderr",
     "output_type": "stream",
     "text": [
      "2022-03-12 14:07:42.633418: I tensorflow/stream_executor/cuda/cuda_dnn.cc:369] Loaded cuDNN version 8005\n"
     ]
    },
    {
     "name": "stdout",
     "output_type": "stream",
     "text": [
      "10310/10310 [==============================] - 970s 94ms/step - loss: 1.8996 - categorical_accuracy: 0.3978 - val_loss: 1.5984 - val_categorical_accuracy: 0.5005\n",
      "Epoch 2/2\n",
      "10310/10310 [==============================] - 973s 94ms/step - loss: 1.2324 - categorical_accuracy: 0.6191 - val_loss: 1.5862 - val_categorical_accuracy: 0.5233\n"
     ]
    }
   ],
   "source": [
    "_ = model.fit(\n",
    "    X_train_padded,\n",
    "    y_train1h,\n",
    "    batch_size=32,\n",
    "    epochs=2,\n",
    "    verbose=1,\n",
    "    validation_data=(X_test_padded, y_test1h),\n",
    ")\n"
   ]
  },
  {
   "cell_type": "code",
   "execution_count": 37,
   "id": "ef5e67be",
   "metadata": {
    "execution": {
     "iopub.execute_input": "2022-03-12T14:40:22.346943Z",
     "iopub.status.busy": "2022-03-12T14:40:22.346113Z",
     "iopub.status.idle": "2022-03-12T14:40:22.878545Z",
     "shell.execute_reply": "2022-03-12T14:40:22.879127Z"
    },
    "papermill": {
     "duration": 7.449898,
     "end_time": "2022-03-12T14:40:22.879288",
     "exception": false,
     "start_time": "2022-03-12T14:40:15.429390",
     "status": "completed"
    },
    "tags": []
   },
   "outputs": [],
   "source": [
    "model_json = model.to_json()\n",
    "json.dump(json.loads(model_json), open('rnn_model.json', \"w\"))\n",
    "model.save_weights('rnn_model_weights.h5')\n"
   ]
  },
  {
   "cell_type": "code",
   "execution_count": 38,
   "id": "4a96b417",
   "metadata": {
    "execution": {
     "iopub.execute_input": "2022-03-12T14:40:36.413522Z",
     "iopub.status.busy": "2022-03-12T14:40:36.412581Z",
     "iopub.status.idle": "2022-03-12T14:40:36.414161Z",
     "shell.execute_reply": "2022-03-12T14:40:36.414576Z"
    },
    "papermill": {
     "duration": 6.839168,
     "end_time": "2022-03-12T14:40:36.414716",
     "exception": false,
     "start_time": "2022-03-12T14:40:29.575548",
     "status": "completed"
    },
    "tags": []
   },
   "outputs": [],
   "source": [
    "# TODO transfer learning & transformers\n"
   ]
  }
 ],
 "metadata": {
  "kernelspec": {
   "display_name": "Python 3",
   "language": "python",
   "name": "python3"
  },
  "language_info": {
   "codemirror_mode": {
    "name": "ipython",
    "version": 3
   },
   "file_extension": ".py",
   "mimetype": "text/x-python",
   "name": "python",
   "nbconvert_exporter": "python",
   "pygments_lexer": "ipython3",
   "version": "3.7.12"
  },
  "papermill": {
   "default_parameters": {},
   "duration": 2100.188,
   "end_time": "2022-03-12T14:40:45.610724",
   "environment_variables": {},
   "exception": null,
   "input_path": "__notebook__.ipynb",
   "output_path": "__notebook__.ipynb",
   "parameters": {},
   "start_time": "2022-03-12T14:05:45.422724",
   "version": "2.3.3"
  }
 },
 "nbformat": 4,
 "nbformat_minor": 5
}
